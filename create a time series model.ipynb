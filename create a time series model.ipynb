{
 "cells": [
  {
   "cell_type": "markdown",
   "id": "999d40b7",
   "metadata": {
    "papermill": {
     "duration": 0.020075,
     "end_time": "2023-01-03T02:32:42.690467",
     "exception": false,
     "start_time": "2023-01-03T02:32:42.670392",
     "status": "completed"
    },
    "tags": []
   },
   "source": [
    "# 1- Importlar:"
   ]
  },
  {
   "cell_type": "code",
   "execution_count": 1,
   "id": "35cedd7f",
   "metadata": {
    "execution": {
     "iopub.execute_input": "2023-01-03T02:32:42.729743Z",
     "iopub.status.busy": "2023-01-03T02:32:42.729140Z",
     "iopub.status.idle": "2023-01-03T02:32:44.609566Z",
     "shell.execute_reply": "2023-01-03T02:32:44.607984Z"
    },
    "papermill": {
     "duration": 1.904847,
     "end_time": "2023-01-03T02:32:44.613302",
     "exception": false,
     "start_time": "2023-01-03T02:32:42.708455",
     "status": "completed"
    },
    "tags": []
   },
   "outputs": [],
   "source": [
    "import holidays as holidays\n",
    "import pandas as pd\n",
    "import numpy as np\n",
    "import matplotlib.pyplot as plt\n",
    "import xgboost as xgb\n",
    "from sklearn.metrics import mean_absolute_percentage_error\n",
    "from sklearn.model_selection import TimeSeriesSplit\n",
    "import seaborn as sns\n",
    "color_pal = sns.color_palette()\n",
    "plt.style.use('fivethirtyeight')\n",
    "import warnings\n",
    "pd.set_option('display.max_columns', None)\n",
    "pd.set_option('display.width', 500)\n",
    "pd.set_option('display.max_rows', None)\n",
    "pd.set_option('display.float_format', lambda x: '%.3f' % x)\n",
    "warnings.filterwarnings('ignore')"
   ]
  },
  {
   "cell_type": "code",
   "execution_count": 2,
   "id": "6a45d5c3",
   "metadata": {
    "execution": {
     "iopub.execute_input": "2023-01-03T02:32:44.655383Z",
     "iopub.status.busy": "2023-01-03T02:32:44.654480Z",
     "iopub.status.idle": "2023-01-03T02:32:59.628399Z",
     "shell.execute_reply": "2023-01-03T02:32:59.626748Z"
    },
    "papermill": {
     "duration": 14.998667,
     "end_time": "2023-01-03T02:32:59.631816",
     "exception": false,
     "start_time": "2023-01-03T02:32:44.633149",
     "status": "completed"
    },
    "tags": []
   },
   "outputs": [
    {
     "name": "stdout",
     "output_type": "stream",
     "text": [
      "Collecting bar_chart_race\r\n",
      "  Downloading bar_chart_race-0.1.0-py3-none-any.whl (156 kB)\r\n",
      "\u001b[2K     \u001b[90m━━━━━━━━━━━━━━━━━━━━━━━━━━━━━━━━━━━━━━━\u001b[0m \u001b[32m156.8/156.8 kB\u001b[0m \u001b[31m3.9 MB/s\u001b[0m eta \u001b[36m0:00:00\u001b[0m\r\n",
      "\u001b[?25hRequirement already satisfied: pandas>=0.24 in /opt/conda/lib/python3.7/site-packages (from bar_chart_race) (1.3.5)\r\n",
      "Requirement already satisfied: matplotlib>=3.1 in /opt/conda/lib/python3.7/site-packages (from bar_chart_race) (3.5.3)\r\n",
      "Requirement already satisfied: cycler>=0.10 in /opt/conda/lib/python3.7/site-packages (from matplotlib>=3.1->bar_chart_race) (0.11.0)\r\n",
      "Requirement already satisfied: fonttools>=4.22.0 in /opt/conda/lib/python3.7/site-packages (from matplotlib>=3.1->bar_chart_race) (4.33.3)\r\n",
      "Requirement already satisfied: pyparsing>=2.2.1 in /opt/conda/lib/python3.7/site-packages (from matplotlib>=3.1->bar_chart_race) (3.0.9)\r\n",
      "Requirement already satisfied: numpy>=1.17 in /opt/conda/lib/python3.7/site-packages (from matplotlib>=3.1->bar_chart_race) (1.21.6)\r\n",
      "Requirement already satisfied: python-dateutil>=2.7 in /opt/conda/lib/python3.7/site-packages (from matplotlib>=3.1->bar_chart_race) (2.8.2)\r\n",
      "Requirement already satisfied: packaging>=20.0 in /opt/conda/lib/python3.7/site-packages (from matplotlib>=3.1->bar_chart_race) (21.3)\r\n",
      "Requirement already satisfied: kiwisolver>=1.0.1 in /opt/conda/lib/python3.7/site-packages (from matplotlib>=3.1->bar_chart_race) (1.4.3)\r\n",
      "Requirement already satisfied: pillow>=6.2.0 in /opt/conda/lib/python3.7/site-packages (from matplotlib>=3.1->bar_chart_race) (9.1.1)\r\n",
      "Requirement already satisfied: pytz>=2017.3 in /opt/conda/lib/python3.7/site-packages (from pandas>=0.24->bar_chart_race) (2022.1)\r\n",
      "Requirement already satisfied: typing-extensions in /opt/conda/lib/python3.7/site-packages (from kiwisolver>=1.0.1->matplotlib>=3.1->bar_chart_race) (4.4.0)\r\n",
      "Requirement already satisfied: six>=1.5 in /opt/conda/lib/python3.7/site-packages (from python-dateutil>=2.7->matplotlib>=3.1->bar_chart_race) (1.15.0)\r\n",
      "Installing collected packages: bar_chart_race\r\n",
      "Successfully installed bar_chart_race-0.1.0\r\n",
      "\u001b[33mWARNING: Running pip as the 'root' user can result in broken permissions and conflicting behaviour with the system package manager. It is recommended to use a virtual environment instead: https://pip.pypa.io/warnings/venv\u001b[0m\u001b[33m\r\n",
      "\u001b[0m"
     ]
    }
   ],
   "source": [
    "!pip install bar_chart_race"
   ]
  },
  {
   "cell_type": "code",
   "execution_count": 3,
   "id": "4c6c4a47",
   "metadata": {
    "execution": {
     "iopub.execute_input": "2023-01-03T02:32:59.671449Z",
     "iopub.status.busy": "2023-01-03T02:32:59.670829Z",
     "iopub.status.idle": "2023-01-03T02:32:59.691868Z",
     "shell.execute_reply": "2023-01-03T02:32:59.690618Z"
    },
    "papermill": {
     "duration": 0.044826,
     "end_time": "2023-01-03T02:32:59.695290",
     "exception": false,
     "start_time": "2023-01-03T02:32:59.650464",
     "status": "completed"
    },
    "tags": []
   },
   "outputs": [],
   "source": [
    "import bar_chart_race as bcr\n",
    "%matplotlib inline"
   ]
  },
  {
   "cell_type": "markdown",
   "id": "b792a035",
   "metadata": {
    "papermill": {
     "duration": 0.018302,
     "end_time": "2023-01-03T02:32:59.733629",
     "exception": false,
     "start_time": "2023-01-03T02:32:59.715327",
     "status": "completed"
    },
    "tags": []
   },
   "source": [
    "# 2- Veri setini okumak:"
   ]
  },
  {
   "cell_type": "code",
   "execution_count": 4,
   "id": "a0f607b6",
   "metadata": {
    "execution": {
     "iopub.execute_input": "2023-01-03T02:32:59.773348Z",
     "iopub.status.busy": "2023-01-03T02:32:59.771843Z",
     "iopub.status.idle": "2023-01-03T02:32:59.985579Z",
     "shell.execute_reply": "2023-01-03T02:32:59.984331Z"
    },
    "papermill": {
     "duration": 0.236686,
     "end_time": "2023-01-03T02:32:59.988641",
     "exception": false,
     "start_time": "2023-01-03T02:32:59.751955",
     "status": "completed"
    },
    "tags": []
   },
   "outputs": [],
   "source": [
    "df=pd.read_csv(\"/kaggle/input/hourly-energy-consumption/PJME_hourly.csv\")"
   ]
  },
  {
   "cell_type": "markdown",
   "id": "ed3d74fa",
   "metadata": {
    "papermill": {
     "duration": 0.018373,
     "end_time": "2023-01-03T02:33:00.025257",
     "exception": false,
     "start_time": "2023-01-03T02:33:00.006884",
     "status": "completed"
    },
    "tags": []
   },
   "source": [
    "# 3- EDA:"
   ]
  },
  {
   "cell_type": "markdown",
   "id": "fd36c9b5",
   "metadata": {
    "papermill": {
     "duration": 0.018504,
     "end_time": "2023-01-03T02:33:00.063694",
     "exception": false,
     "start_time": "2023-01-03T02:33:00.045190",
     "status": "completed"
    },
    "tags": []
   },
   "source": [
    "## 3.1- Genel resmi inceleme:"
   ]
  },
  {
   "cell_type": "code",
   "execution_count": 5,
   "id": "c57bc9b9",
   "metadata": {
    "execution": {
     "iopub.execute_input": "2023-01-03T02:33:00.103519Z",
     "iopub.status.busy": "2023-01-03T02:33:00.102745Z",
     "iopub.status.idle": "2023-01-03T02:33:00.109143Z",
     "shell.execute_reply": "2023-01-03T02:33:00.108008Z"
    },
    "papermill": {
     "duration": 0.029111,
     "end_time": "2023-01-03T02:33:00.111875",
     "exception": false,
     "start_time": "2023-01-03T02:33:00.082764",
     "status": "completed"
    },
    "tags": []
   },
   "outputs": [],
   "source": [
    "headers = {'selector': 'th:not(.index_name)', 'props': 'background-color: #92b9ba; color: white;'}"
   ]
  },
  {
   "cell_type": "code",
   "execution_count": 6,
   "id": "994c700e",
   "metadata": {
    "execution": {
     "iopub.execute_input": "2023-01-03T02:33:00.155640Z",
     "iopub.status.busy": "2023-01-03T02:33:00.154657Z",
     "iopub.status.idle": "2023-01-03T02:33:00.173464Z",
     "shell.execute_reply": "2023-01-03T02:33:00.172261Z"
    },
    "papermill": {
     "duration": 0.044902,
     "end_time": "2023-01-03T02:33:00.176583",
     "exception": false,
     "start_time": "2023-01-03T02:33:00.131681",
     "status": "completed"
    },
    "tags": []
   },
   "outputs": [],
   "source": [
    "def check_df(dataframe, head=10, onehot=False, time=False):    \n",
    "    def highlight_cells(val):\n",
    "        color = 'pink' if val == 1 else ''\n",
    "        return 'background-color: {}'.format(color)\n",
    "\n",
    "    print(\"___________________________________________________________________\")\n",
    "    print(\"SHAPE______________________________________________________________\")\n",
    "    print(\" \")\n",
    "    print(dataframe.shape)\n",
    "    print(\"\\n\")\n",
    "    print(\"___________________________________________________________________\")\n",
    "    print(\"TYPES______________________________________________________________\")\n",
    "    print(\" \")\n",
    "    print(dataframe.dtypes)\n",
    "    print(\"\\n\")\n",
    "    print(\"___________________________________________________________________\")\n",
    "    print(\"NA_________________________________________________________________\")\n",
    "    print(\" \")\n",
    "    print(dataframe.isnull().sum())\n",
    "    print(\"\\n\")\n",
    "    print(\"___________________________________________________________________\")\n",
    "    print(\"Nunique____________________________________________________________\")\n",
    "    print(\" \")\n",
    "    print(dataframe.nunique())\n",
    "    print(\"\\n\")\n",
    "    if onehot:\n",
    "        print(\"___________________________________________________________________\")\n",
    "        print(\"HEAD_______________________________________________________________\")\n",
    "        print(\" \")\n",
    "        display(dataframe.head(10).style.set_table_styles([headers]).applymap(highlight_cells))\n",
    "        print(\"\\n\")\n",
    "        print(\"___________________________________________________________________\")\n",
    "        print(\"TAIL_______________________________________________________________\")\n",
    "        print(\" \")\n",
    "        display(dataframe.tail(10).style.set_table_styles([headers]).applymap(highlight_cells))\n",
    "        print(\"\\n\")\n",
    "    else:\n",
    "        print(\"___________________________________________________________________\")\n",
    "        print(\"HEAD_______________________________________________________________\")\n",
    "        print(\" \")\n",
    "        display(dataframe.head(10).style.set_table_styles([headers]))\n",
    "        print(\"\\n\")\n",
    "        print(\"___________________________________________________________________\")\n",
    "        print(\"TAIL_______________________________________________________________\")\n",
    "        print(\" \")\n",
    "        display(dataframe.tail(10).style.set_table_styles([headers]))\n",
    "        print(\"\\n\")\n",
    "    print(\"___________________________________________________________________\")\n",
    "    print(\"QUANTILES__________________________________________________________\")\n",
    "    print(\" \")\n",
    "    display(dataframe.quantile([0, 0.05, 0.50, 0.95, 0.99, 1]).T.style.set_table_styles([headers]))\n",
    "    print(\"\\n\")\n",
    "    if time:\n",
    "        print(\"___________________________________________________________________\")\n",
    "        print(\"PLOT_______________________________________________________________\")\n",
    "        print(\" \")\n",
    "        dataframe.plot(style='.',\n",
    "                figsize=(15, 5),\n",
    "                color=\"#92b9ba\")\n",
    "        plt.show()\n"
   ]
  },
  {
   "cell_type": "code",
   "execution_count": 7,
   "id": "4312cf18",
   "metadata": {
    "execution": {
     "iopub.execute_input": "2023-01-03T02:33:00.216271Z",
     "iopub.status.busy": "2023-01-03T02:33:00.215336Z",
     "iopub.status.idle": "2023-01-03T02:33:00.945702Z",
     "shell.execute_reply": "2023-01-03T02:33:00.944269Z"
    },
    "papermill": {
     "duration": 0.753745,
     "end_time": "2023-01-03T02:33:00.948639",
     "exception": false,
     "start_time": "2023-01-03T02:33:00.194894",
     "status": "completed"
    },
    "tags": []
   },
   "outputs": [
    {
     "name": "stdout",
     "output_type": "stream",
     "text": [
      "___________________________________________________________________\n",
      "SHAPE______________________________________________________________\n",
      " \n",
      "(145366, 2)\n",
      "\n",
      "\n",
      "___________________________________________________________________\n",
      "TYPES______________________________________________________________\n",
      " \n",
      "Datetime     object\n",
      "PJME_MW     float64\n",
      "dtype: object\n",
      "\n",
      "\n",
      "___________________________________________________________________\n",
      "NA_________________________________________________________________\n",
      " \n",
      "Datetime    0\n",
      "PJME_MW     0\n",
      "dtype: int64\n",
      "\n",
      "\n",
      "___________________________________________________________________\n",
      "Nunique____________________________________________________________\n",
      " \n",
      "Datetime    145362\n",
      "PJME_MW      28441\n",
      "dtype: int64\n",
      "\n",
      "\n",
      "___________________________________________________________________\n",
      "HEAD_______________________________________________________________\n",
      " \n"
     ]
    },
    {
     "data": {
      "text/html": [
       "<style type=\"text/css\">\n",
       "#T_ad055_ th:not(.index_name) {\n",
       "  background-color: #92b9ba;\n",
       "  color: white;\n",
       "}\n",
       "</style>\n",
       "<table id=\"T_ad055_\">\n",
       "  <thead>\n",
       "    <tr>\n",
       "      <th class=\"blank level0\" >&nbsp;</th>\n",
       "      <th class=\"col_heading level0 col0\" >Datetime</th>\n",
       "      <th class=\"col_heading level0 col1\" >PJME_MW</th>\n",
       "    </tr>\n",
       "  </thead>\n",
       "  <tbody>\n",
       "    <tr>\n",
       "      <th id=\"T_ad055_level0_row0\" class=\"row_heading level0 row0\" >0</th>\n",
       "      <td id=\"T_ad055_row0_col0\" class=\"data row0 col0\" >2002-12-31 01:00:00</td>\n",
       "      <td id=\"T_ad055_row0_col1\" class=\"data row0 col1\" >26498.000000</td>\n",
       "    </tr>\n",
       "    <tr>\n",
       "      <th id=\"T_ad055_level0_row1\" class=\"row_heading level0 row1\" >1</th>\n",
       "      <td id=\"T_ad055_row1_col0\" class=\"data row1 col0\" >2002-12-31 02:00:00</td>\n",
       "      <td id=\"T_ad055_row1_col1\" class=\"data row1 col1\" >25147.000000</td>\n",
       "    </tr>\n",
       "    <tr>\n",
       "      <th id=\"T_ad055_level0_row2\" class=\"row_heading level0 row2\" >2</th>\n",
       "      <td id=\"T_ad055_row2_col0\" class=\"data row2 col0\" >2002-12-31 03:00:00</td>\n",
       "      <td id=\"T_ad055_row2_col1\" class=\"data row2 col1\" >24574.000000</td>\n",
       "    </tr>\n",
       "    <tr>\n",
       "      <th id=\"T_ad055_level0_row3\" class=\"row_heading level0 row3\" >3</th>\n",
       "      <td id=\"T_ad055_row3_col0\" class=\"data row3 col0\" >2002-12-31 04:00:00</td>\n",
       "      <td id=\"T_ad055_row3_col1\" class=\"data row3 col1\" >24393.000000</td>\n",
       "    </tr>\n",
       "    <tr>\n",
       "      <th id=\"T_ad055_level0_row4\" class=\"row_heading level0 row4\" >4</th>\n",
       "      <td id=\"T_ad055_row4_col0\" class=\"data row4 col0\" >2002-12-31 05:00:00</td>\n",
       "      <td id=\"T_ad055_row4_col1\" class=\"data row4 col1\" >24860.000000</td>\n",
       "    </tr>\n",
       "    <tr>\n",
       "      <th id=\"T_ad055_level0_row5\" class=\"row_heading level0 row5\" >5</th>\n",
       "      <td id=\"T_ad055_row5_col0\" class=\"data row5 col0\" >2002-12-31 06:00:00</td>\n",
       "      <td id=\"T_ad055_row5_col1\" class=\"data row5 col1\" >26222.000000</td>\n",
       "    </tr>\n",
       "    <tr>\n",
       "      <th id=\"T_ad055_level0_row6\" class=\"row_heading level0 row6\" >6</th>\n",
       "      <td id=\"T_ad055_row6_col0\" class=\"data row6 col0\" >2002-12-31 07:00:00</td>\n",
       "      <td id=\"T_ad055_row6_col1\" class=\"data row6 col1\" >28702.000000</td>\n",
       "    </tr>\n",
       "    <tr>\n",
       "      <th id=\"T_ad055_level0_row7\" class=\"row_heading level0 row7\" >7</th>\n",
       "      <td id=\"T_ad055_row7_col0\" class=\"data row7 col0\" >2002-12-31 08:00:00</td>\n",
       "      <td id=\"T_ad055_row7_col1\" class=\"data row7 col1\" >30698.000000</td>\n",
       "    </tr>\n",
       "    <tr>\n",
       "      <th id=\"T_ad055_level0_row8\" class=\"row_heading level0 row8\" >8</th>\n",
       "      <td id=\"T_ad055_row8_col0\" class=\"data row8 col0\" >2002-12-31 09:00:00</td>\n",
       "      <td id=\"T_ad055_row8_col1\" class=\"data row8 col1\" >31800.000000</td>\n",
       "    </tr>\n",
       "    <tr>\n",
       "      <th id=\"T_ad055_level0_row9\" class=\"row_heading level0 row9\" >9</th>\n",
       "      <td id=\"T_ad055_row9_col0\" class=\"data row9 col0\" >2002-12-31 10:00:00</td>\n",
       "      <td id=\"T_ad055_row9_col1\" class=\"data row9 col1\" >32359.000000</td>\n",
       "    </tr>\n",
       "  </tbody>\n",
       "</table>\n"
      ],
      "text/plain": [
       "<pandas.io.formats.style.Styler at 0x7f4dcaf0f190>"
      ]
     },
     "metadata": {},
     "output_type": "display_data"
    },
    {
     "name": "stdout",
     "output_type": "stream",
     "text": [
      "\n",
      "\n",
      "___________________________________________________________________\n",
      "TAIL_______________________________________________________________\n",
      " \n"
     ]
    },
    {
     "data": {
      "text/html": [
       "<style type=\"text/css\">\n",
       "#T_944c5_ th:not(.index_name) {\n",
       "  background-color: #92b9ba;\n",
       "  color: white;\n",
       "}\n",
       "</style>\n",
       "<table id=\"T_944c5_\">\n",
       "  <thead>\n",
       "    <tr>\n",
       "      <th class=\"blank level0\" >&nbsp;</th>\n",
       "      <th class=\"col_heading level0 col0\" >Datetime</th>\n",
       "      <th class=\"col_heading level0 col1\" >PJME_MW</th>\n",
       "    </tr>\n",
       "  </thead>\n",
       "  <tbody>\n",
       "    <tr>\n",
       "      <th id=\"T_944c5_level0_row0\" class=\"row_heading level0 row0\" >145356</th>\n",
       "      <td id=\"T_944c5_row0_col0\" class=\"data row0 col0\" >2018-01-01 15:00:00</td>\n",
       "      <td id=\"T_944c5_row0_col1\" class=\"data row0 col1\" >38737.000000</td>\n",
       "    </tr>\n",
       "    <tr>\n",
       "      <th id=\"T_944c5_level0_row1\" class=\"row_heading level0 row1\" >145357</th>\n",
       "      <td id=\"T_944c5_row1_col0\" class=\"data row1 col0\" >2018-01-01 16:00:00</td>\n",
       "      <td id=\"T_944c5_row1_col1\" class=\"data row1 col1\" >39337.000000</td>\n",
       "    </tr>\n",
       "    <tr>\n",
       "      <th id=\"T_944c5_level0_row2\" class=\"row_heading level0 row2\" >145358</th>\n",
       "      <td id=\"T_944c5_row2_col0\" class=\"data row2 col0\" >2018-01-01 17:00:00</td>\n",
       "      <td id=\"T_944c5_row2_col1\" class=\"data row2 col1\" >41213.000000</td>\n",
       "    </tr>\n",
       "    <tr>\n",
       "      <th id=\"T_944c5_level0_row3\" class=\"row_heading level0 row3\" >145359</th>\n",
       "      <td id=\"T_944c5_row3_col0\" class=\"data row3 col0\" >2018-01-01 18:00:00</td>\n",
       "      <td id=\"T_944c5_row3_col1\" class=\"data row3 col1\" >44147.000000</td>\n",
       "    </tr>\n",
       "    <tr>\n",
       "      <th id=\"T_944c5_level0_row4\" class=\"row_heading level0 row4\" >145360</th>\n",
       "      <td id=\"T_944c5_row4_col0\" class=\"data row4 col0\" >2018-01-01 19:00:00</td>\n",
       "      <td id=\"T_944c5_row4_col1\" class=\"data row4 col1\" >44343.000000</td>\n",
       "    </tr>\n",
       "    <tr>\n",
       "      <th id=\"T_944c5_level0_row5\" class=\"row_heading level0 row5\" >145361</th>\n",
       "      <td id=\"T_944c5_row5_col0\" class=\"data row5 col0\" >2018-01-01 20:00:00</td>\n",
       "      <td id=\"T_944c5_row5_col1\" class=\"data row5 col1\" >44284.000000</td>\n",
       "    </tr>\n",
       "    <tr>\n",
       "      <th id=\"T_944c5_level0_row6\" class=\"row_heading level0 row6\" >145362</th>\n",
       "      <td id=\"T_944c5_row6_col0\" class=\"data row6 col0\" >2018-01-01 21:00:00</td>\n",
       "      <td id=\"T_944c5_row6_col1\" class=\"data row6 col1\" >43751.000000</td>\n",
       "    </tr>\n",
       "    <tr>\n",
       "      <th id=\"T_944c5_level0_row7\" class=\"row_heading level0 row7\" >145363</th>\n",
       "      <td id=\"T_944c5_row7_col0\" class=\"data row7 col0\" >2018-01-01 22:00:00</td>\n",
       "      <td id=\"T_944c5_row7_col1\" class=\"data row7 col1\" >42402.000000</td>\n",
       "    </tr>\n",
       "    <tr>\n",
       "      <th id=\"T_944c5_level0_row8\" class=\"row_heading level0 row8\" >145364</th>\n",
       "      <td id=\"T_944c5_row8_col0\" class=\"data row8 col0\" >2018-01-01 23:00:00</td>\n",
       "      <td id=\"T_944c5_row8_col1\" class=\"data row8 col1\" >40164.000000</td>\n",
       "    </tr>\n",
       "    <tr>\n",
       "      <th id=\"T_944c5_level0_row9\" class=\"row_heading level0 row9\" >145365</th>\n",
       "      <td id=\"T_944c5_row9_col0\" class=\"data row9 col0\" >2018-01-02 00:00:00</td>\n",
       "      <td id=\"T_944c5_row9_col1\" class=\"data row9 col1\" >38608.000000</td>\n",
       "    </tr>\n",
       "  </tbody>\n",
       "</table>\n"
      ],
      "text/plain": [
       "<pandas.io.formats.style.Styler at 0x7f4dcaf21e10>"
      ]
     },
     "metadata": {},
     "output_type": "display_data"
    },
    {
     "name": "stdout",
     "output_type": "stream",
     "text": [
      "\n",
      "\n",
      "___________________________________________________________________\n",
      "QUANTILES__________________________________________________________\n",
      " \n"
     ]
    },
    {
     "data": {
      "text/html": [
       "<style type=\"text/css\">\n",
       "#T_788e7_ th:not(.index_name) {\n",
       "  background-color: #92b9ba;\n",
       "  color: white;\n",
       "}\n",
       "</style>\n",
       "<table id=\"T_788e7_\">\n",
       "  <thead>\n",
       "    <tr>\n",
       "      <th class=\"blank level0\" >&nbsp;</th>\n",
       "      <th class=\"col_heading level0 col0\" >0.0</th>\n",
       "      <th class=\"col_heading level0 col1\" >0.05</th>\n",
       "      <th class=\"col_heading level0 col2\" >0.5</th>\n",
       "      <th class=\"col_heading level0 col3\" >0.95</th>\n",
       "      <th class=\"col_heading level0 col4\" >0.99</th>\n",
       "      <th class=\"col_heading level0 col5\" >1.0</th>\n",
       "    </tr>\n",
       "  </thead>\n",
       "  <tbody>\n",
       "    <tr>\n",
       "      <th id=\"T_788e7_level0_row0\" class=\"row_heading level0 row0\" >PJME_MW</th>\n",
       "      <td id=\"T_788e7_row0_col0\" class=\"data row0 col0\" >14544.000000</td>\n",
       "      <td id=\"T_788e7_row0_col1\" class=\"data row0 col1\" >22623.000000</td>\n",
       "      <td id=\"T_788e7_row0_col2\" class=\"data row0 col2\" >31421.000000</td>\n",
       "      <td id=\"T_788e7_row0_col3\" class=\"data row0 col3\" >44187.750000</td>\n",
       "      <td id=\"T_788e7_row0_col4\" class=\"data row0 col4\" >51156.400000</td>\n",
       "      <td id=\"T_788e7_row0_col5\" class=\"data row0 col5\" >62009.000000</td>\n",
       "    </tr>\n",
       "  </tbody>\n",
       "</table>\n"
      ],
      "text/plain": [
       "<pandas.io.formats.style.Styler at 0x7f4de0868d10>"
      ]
     },
     "metadata": {},
     "output_type": "display_data"
    },
    {
     "name": "stdout",
     "output_type": "stream",
     "text": [
      "\n",
      "\n",
      "___________________________________________________________________\n",
      "PLOT_______________________________________________________________\n",
      " \n"
     ]
    },
    {
     "data": {
      "image/png": "[encoded data removed]",
      "text/plain": [
       "<Figure size 1080x360 with 1 Axes>"
      ]
     },
     "metadata": {
      "needs_background": "light"
     },
     "output_type": "display_data"
    }
   ],
   "source": [
    "check_df(df,time=True)"
   ]
  },
  {
   "cell_type": "markdown",
   "id": "ec7cf108",
   "metadata": {
    "papermill": {
     "duration": 0.020753,
     "end_time": "2023-01-03T02:33:00.990893",
     "exception": false,
     "start_time": "2023-01-03T02:33:00.970140",
     "status": "completed"
    },
    "tags": []
   },
   "source": [
    "## 3.2- Aykırı değerleri inceleme:"
   ]
  },
  {
   "cell_type": "code",
   "execution_count": 8,
   "id": "fd4ca583",
   "metadata": {
    "execution": {
     "iopub.execute_input": "2023-01-03T02:33:01.035327Z",
     "iopub.status.busy": "2023-01-03T02:33:01.034582Z",
     "iopub.status.idle": "2023-01-03T02:33:01.320814Z",
     "shell.execute_reply": "2023-01-03T02:33:01.319375Z"
    },
    "papermill": {
     "duration": 0.312184,
     "end_time": "2023-01-03T02:33:01.324231",
     "exception": false,
     "start_time": "2023-01-03T02:33:01.012047",
     "status": "completed"
    },
    "tags": []
   },
   "outputs": [
    {
     "data": {
      "text/plain": [
       "<AxesSubplot:title={'center':'Outliers: up limit'}>"
      ]
     },
     "execution_count": 8,
     "metadata": {},
     "output_type": "execute_result"
    },
    {
     "data": {
      "image/png": "[encoded data removed]",
      "text/plain": [
       "<Figure size 1080x360 with 1 Axes>"
      ]
     },
     "metadata": {
      "needs_background": "light"
     },
     "output_type": "display_data"
    }
   ],
   "source": [
    "df.query('PJME_MW > 58_000')['PJME_MW'] \\\n",
    "    .plot(style='.',\n",
    "          figsize=(15, 5),\n",
    "          color=\"#7cabad\",\n",
    "         title='Outliers: up limit')"
   ]
  },
  {
   "cell_type": "code",
   "execution_count": 9,
   "id": "906a6e63",
   "metadata": {
    "execution": {
     "iopub.execute_input": "2023-01-03T02:33:01.372535Z",
     "iopub.status.busy": "2023-01-03T02:33:01.371120Z",
     "iopub.status.idle": "2023-01-03T02:33:01.636886Z",
     "shell.execute_reply": "2023-01-03T02:33:01.635275Z"
    },
    "papermill": {
     "duration": 0.292456,
     "end_time": "2023-01-03T02:33:01.639957",
     "exception": false,
     "start_time": "2023-01-03T02:33:01.347501",
     "status": "completed"
    },
    "tags": []
   },
   "outputs": [
    {
     "data": {
      "text/plain": [
       "<AxesSubplot:title={'center':'Outliers: low limit'}>"
      ]
     },
     "execution_count": 9,
     "metadata": {},
     "output_type": "execute_result"
    },
    {
     "data": {
      "image/png": "[encoded data removed]",
      "text/plain": [
       "<Figure size 1080x360 with 1 Axes>"
      ]
     },
     "metadata": {
      "needs_background": "light"
     },
     "output_type": "display_data"
    }
   ],
   "source": [
    "df.query('PJME_MW < 20_000')['PJME_MW'] \\\n",
    "    .plot(style='.',\n",
    "          figsize=(15, 5),\n",
    "          color=\"#7cabad\",\n",
    "         title='Outliers: low limit')"
   ]
  },
  {
   "cell_type": "markdown",
   "id": "17eed1b2",
   "metadata": {
    "papermill": {
     "duration": 0.020993,
     "end_time": "2023-01-03T02:33:01.682467",
     "exception": false,
     "start_time": "2023-01-03T02:33:01.661474",
     "status": "completed"
    },
    "tags": []
   },
   "source": [
    "# 4- Ön İşleme:"
   ]
  },
  {
   "cell_type": "markdown",
   "id": "0d77bddc",
   "metadata": {
    "papermill": {
     "duration": 0.020993,
     "end_time": "2023-01-03T02:33:01.724697",
     "exception": false,
     "start_time": "2023-01-03T02:33:01.703704",
     "status": "completed"
    },
    "tags": []
   },
   "source": [
    "## 4.1 - Veri türünü düzeltme:"
   ]
  },
  {
   "cell_type": "code",
   "execution_count": 10,
   "id": "9e0f232b",
   "metadata": {
    "execution": {
     "iopub.execute_input": "2023-01-03T02:33:01.769933Z",
     "iopub.status.busy": "2023-01-03T02:33:01.769470Z",
     "iopub.status.idle": "2023-01-03T02:33:01.808146Z",
     "shell.execute_reply": "2023-01-03T02:33:01.806805Z"
    },
    "papermill": {
     "duration": 0.064881,
     "end_time": "2023-01-03T02:33:01.811331",
     "exception": false,
     "start_time": "2023-01-03T02:33:01.746450",
     "status": "completed"
    },
    "tags": []
   },
   "outputs": [],
   "source": [
    "df[\"Datetime\"] = pd.to_datetime(df[\"Datetime\"])"
   ]
  },
  {
   "cell_type": "code",
   "execution_count": 11,
   "id": "93c4d254",
   "metadata": {
    "execution": {
     "iopub.execute_input": "2023-01-03T02:33:01.857658Z",
     "iopub.status.busy": "2023-01-03T02:33:01.857110Z",
     "iopub.status.idle": "2023-01-03T02:33:01.877751Z",
     "shell.execute_reply": "2023-01-03T02:33:01.876630Z"
    },
    "papermill": {
     "duration": 0.046455,
     "end_time": "2023-01-03T02:33:01.880749",
     "exception": false,
     "start_time": "2023-01-03T02:33:01.834294",
     "status": "completed"
    },
    "tags": []
   },
   "outputs": [],
   "source": [
    "df = df.sort_values(by=\"Datetime\", ignore_index=True)"
   ]
  },
  {
   "cell_type": "markdown",
   "id": "c69b01c3",
   "metadata": {
    "papermill": {
     "duration": 0.020777,
     "end_time": "2023-01-03T02:33:01.923760",
     "exception": false,
     "start_time": "2023-01-03T02:33:01.902983",
     "status": "completed"
    },
    "tags": []
   },
   "source": [
    "## 4.2- Eksik tarih verilerini bulma:"
   ]
  },
  {
   "cell_type": "code",
   "execution_count": 12,
   "id": "faf7bdcf",
   "metadata": {
    "execution": {
     "iopub.execute_input": "2023-01-03T02:33:01.971600Z",
     "iopub.status.busy": "2023-01-03T02:33:01.970136Z",
     "iopub.status.idle": "2023-01-03T02:33:01.979431Z",
     "shell.execute_reply": "2023-01-03T02:33:01.977690Z"
    },
    "papermill": {
     "duration": 0.035926,
     "end_time": "2023-01-03T02:33:01.982510",
     "exception": false,
     "start_time": "2023-01-03T02:33:01.946584",
     "status": "completed"
    },
    "tags": []
   },
   "outputs": [],
   "source": [
    "# eksik tarih verilerini bulma:\n",
    "min_dt = df.Datetime.min() # ilk tarih"
   ]
  },
  {
   "cell_type": "code",
   "execution_count": 13,
   "id": "a28ec5f3",
   "metadata": {
    "execution": {
     "iopub.execute_input": "2023-01-03T02:33:02.027821Z",
     "iopub.status.busy": "2023-01-03T02:33:02.027307Z",
     "iopub.status.idle": "2023-01-03T02:33:02.035630Z",
     "shell.execute_reply": "2023-01-03T02:33:02.034035Z"
    },
    "papermill": {
     "duration": 0.034268,
     "end_time": "2023-01-03T02:33:02.038403",
     "exception": false,
     "start_time": "2023-01-03T02:33:02.004135",
     "status": "completed"
    },
    "tags": []
   },
   "outputs": [
    {
     "data": {
      "text/plain": [
       "Timestamp('2002-01-01 01:00:00')"
      ]
     },
     "execution_count": 13,
     "metadata": {},
     "output_type": "execute_result"
    }
   ],
   "source": [
    "min_dt"
   ]
  },
  {
   "cell_type": "code",
   "execution_count": 14,
   "id": "38d5a4d9",
   "metadata": {
    "execution": {
     "iopub.execute_input": "2023-01-03T02:33:02.087154Z",
     "iopub.status.busy": "2023-01-03T02:33:02.086407Z",
     "iopub.status.idle": "2023-01-03T02:33:02.092405Z",
     "shell.execute_reply": "2023-01-03T02:33:02.091348Z"
    },
    "papermill": {
     "duration": 0.034646,
     "end_time": "2023-01-03T02:33:02.095138",
     "exception": false,
     "start_time": "2023-01-03T02:33:02.060492",
     "status": "completed"
    },
    "tags": []
   },
   "outputs": [],
   "source": [
    "max_dt = df.Datetime.max() # son tarih"
   ]
  },
  {
   "cell_type": "code",
   "execution_count": 15,
   "id": "d38dc010",
   "metadata": {
    "execution": {
     "iopub.execute_input": "2023-01-03T02:33:02.141926Z",
     "iopub.status.busy": "2023-01-03T02:33:02.141013Z",
     "iopub.status.idle": "2023-01-03T02:33:02.148019Z",
     "shell.execute_reply": "2023-01-03T02:33:02.146887Z"
    },
    "papermill": {
     "duration": 0.033014,
     "end_time": "2023-01-03T02:33:02.150515",
     "exception": false,
     "start_time": "2023-01-03T02:33:02.117501",
     "status": "completed"
    },
    "tags": []
   },
   "outputs": [
    {
     "data": {
      "text/plain": [
       "Timestamp('2018-08-03 00:00:00')"
      ]
     },
     "execution_count": 15,
     "metadata": {},
     "output_type": "execute_result"
    }
   ],
   "source": [
    "max_dt"
   ]
  },
  {
   "cell_type": "code",
   "execution_count": 16,
   "id": "3b61e104",
   "metadata": {
    "execution": {
     "iopub.execute_input": "2023-01-03T02:33:02.199294Z",
     "iopub.status.busy": "2023-01-03T02:33:02.198436Z",
     "iopub.status.idle": "2023-01-03T02:33:02.204876Z",
     "shell.execute_reply": "2023-01-03T02:33:02.203534Z"
    },
    "papermill": {
     "duration": 0.034641,
     "end_time": "2023-01-03T02:33:02.207632",
     "exception": false,
     "start_time": "2023-01-03T02:33:02.172991",
     "status": "completed"
    },
    "tags": []
   },
   "outputs": [],
   "source": [
    "dt_range = pd.date_range(min_dt, max_dt, freq='H') # ilk ve son tarih aralığında olması gereken tüm zaman verileri"
   ]
  },
  {
   "cell_type": "code",
   "execution_count": 17,
   "id": "3de7b408",
   "metadata": {
    "execution": {
     "iopub.execute_input": "2023-01-03T02:33:02.256022Z",
     "iopub.status.busy": "2023-01-03T02:33:02.255448Z",
     "iopub.status.idle": "2023-01-03T02:33:02.262307Z",
     "shell.execute_reply": "2023-01-03T02:33:02.260941Z"
    },
    "papermill": {
     "duration": 0.034549,
     "end_time": "2023-01-03T02:33:02.265523",
     "exception": false,
     "start_time": "2023-01-03T02:33:02.230974",
     "status": "completed"
    },
    "tags": []
   },
   "outputs": [],
   "source": [
    "dt_range = pd.DataFrame(data=dt_range, columns=[\"Datetime\"])"
   ]
  },
  {
   "cell_type": "code",
   "execution_count": 18,
   "id": "a44a6ada",
   "metadata": {
    "execution": {
     "iopub.execute_input": "2023-01-03T02:33:02.312445Z",
     "iopub.status.busy": "2023-01-03T02:33:02.311888Z",
     "iopub.status.idle": "2023-01-03T02:33:02.465381Z",
     "shell.execute_reply": "2023-01-03T02:33:02.464186Z"
    },
    "papermill": {
     "duration": 0.181328,
     "end_time": "2023-01-03T02:33:02.468697",
     "exception": false,
     "start_time": "2023-01-03T02:33:02.287369",
     "status": "completed"
    },
    "tags": []
   },
   "outputs": [],
   "source": [
    "missing_dts = pd.DataFrame(dt_range.merge(df,\n",
    "                                          indicator=True,\n",
    "                                          how='left',\n",
    "                                          on=\"Datetime\").loc[lambda x : x['_merge']!='both']).reset_index().drop(['index', '_merge'], axis=1) # eksik olan tarihler"
   ]
  },
  {
   "cell_type": "code",
   "execution_count": 19,
   "id": "d8273d49",
   "metadata": {
    "execution": {
     "iopub.execute_input": "2023-01-03T02:33:02.514239Z",
     "iopub.status.busy": "2023-01-03T02:33:02.513691Z",
     "iopub.status.idle": "2023-01-03T02:33:02.519913Z",
     "shell.execute_reply": "2023-01-03T02:33:02.518844Z"
    },
    "papermill": {
     "duration": 0.032857,
     "end_time": "2023-01-03T02:33:02.523177",
     "exception": false,
     "start_time": "2023-01-03T02:33:02.490320",
     "status": "completed"
    },
    "tags": []
   },
   "outputs": [
    {
     "name": "stdout",
     "output_type": "stream",
     "text": [
      "There are 30 missing dates\n"
     ]
    }
   ],
   "source": [
    "print(\"There are {n} missing dates\".format(n=len(missing_dts)))"
   ]
  },
  {
   "cell_type": "markdown",
   "id": "59265ba4",
   "metadata": {
    "papermill": {
     "duration": 0.023372,
     "end_time": "2023-01-03T02:33:02.569943",
     "exception": false,
     "start_time": "2023-01-03T02:33:02.546571",
     "status": "completed"
    },
    "tags": []
   },
   "source": [
    "## 4.3- Eksik tarih verilerini veri setine ekleme ve doldurma:"
   ]
  },
  {
   "cell_type": "code",
   "execution_count": 20,
   "id": "e80fbe48",
   "metadata": {
    "execution": {
     "iopub.execute_input": "2023-01-03T02:33:02.616087Z",
     "iopub.status.busy": "2023-01-03T02:33:02.615256Z",
     "iopub.status.idle": "2023-01-03T02:33:02.624050Z",
     "shell.execute_reply": "2023-01-03T02:33:02.622495Z"
    },
    "papermill": {
     "duration": 0.035251,
     "end_time": "2023-01-03T02:33:02.627077",
     "exception": false,
     "start_time": "2023-01-03T02:33:02.591826",
     "status": "completed"
    },
    "tags": []
   },
   "outputs": [],
   "source": [
    "# Eksik tarihlerin eklenmesi:\n",
    "df = pd.concat([df,missing_dts], axis=0, ignore_index=True) #eksik tarihleri ana dataframemime ekliyorum"
   ]
  },
  {
   "cell_type": "code",
   "execution_count": 21,
   "id": "6ccf2b3a",
   "metadata": {
    "execution": {
     "iopub.execute_input": "2023-01-03T02:33:02.674110Z",
     "iopub.status.busy": "2023-01-03T02:33:02.673646Z",
     "iopub.status.idle": "2023-01-03T02:33:02.679309Z",
     "shell.execute_reply": "2023-01-03T02:33:02.677679Z"
    },
    "papermill": {
     "duration": 0.033,
     "end_time": "2023-01-03T02:33:02.682429",
     "exception": false,
     "start_time": "2023-01-03T02:33:02.649429",
     "status": "completed"
    },
    "tags": []
   },
   "outputs": [],
   "source": [
    "del dt_range"
   ]
  },
  {
   "cell_type": "code",
   "execution_count": 22,
   "id": "fb171740",
   "metadata": {
    "execution": {
     "iopub.execute_input": "2023-01-03T02:33:02.729892Z",
     "iopub.status.busy": "2023-01-03T02:33:02.728974Z",
     "iopub.status.idle": "2023-01-03T02:33:02.735008Z",
     "shell.execute_reply": "2023-01-03T02:33:02.734051Z"
    },
    "papermill": {
     "duration": 0.032841,
     "end_time": "2023-01-03T02:33:02.737526",
     "exception": false,
     "start_time": "2023-01-03T02:33:02.704685",
     "status": "completed"
    },
    "tags": []
   },
   "outputs": [],
   "source": [
    "del missing_dts"
   ]
  },
  {
   "cell_type": "code",
   "execution_count": 23,
   "id": "fefe0b5c",
   "metadata": {
    "execution": {
     "iopub.execute_input": "2023-01-03T02:33:02.785696Z",
     "iopub.status.busy": "2023-01-03T02:33:02.784881Z",
     "iopub.status.idle": "2023-01-03T02:33:02.800488Z",
     "shell.execute_reply": "2023-01-03T02:33:02.799174Z"
    },
    "papermill": {
     "duration": 0.042987,
     "end_time": "2023-01-03T02:33:02.803349",
     "exception": false,
     "start_time": "2023-01-03T02:33:02.760362",
     "status": "completed"
    },
    "tags": []
   },
   "outputs": [
    {
     "data": {
      "text/html": [
       "<style type=\"text/css\">\n",
       "#T_ab3fd_ th:not(.index_name) {\n",
       "  background-color: #92b9ba;\n",
       "  color: white;\n",
       "}\n",
       "</style>\n",
       "<table id=\"T_ab3fd_\">\n",
       "  <thead>\n",
       "    <tr>\n",
       "      <th class=\"blank level0\" >&nbsp;</th>\n",
       "      <th class=\"col_heading level0 col0\" >Datetime</th>\n",
       "      <th class=\"col_heading level0 col1\" >PJME_MW</th>\n",
       "    </tr>\n",
       "  </thead>\n",
       "  <tbody>\n",
       "    <tr>\n",
       "      <th id=\"T_ab3fd_level0_row0\" class=\"row_heading level0 row0\" >145366</th>\n",
       "      <td id=\"T_ab3fd_row0_col0\" class=\"data row0 col0\" >2002-04-07 03:00:00</td>\n",
       "      <td id=\"T_ab3fd_row0_col1\" class=\"data row0 col1\" >nan</td>\n",
       "    </tr>\n",
       "    <tr>\n",
       "      <th id=\"T_ab3fd_level0_row1\" class=\"row_heading level0 row1\" >145367</th>\n",
       "      <td id=\"T_ab3fd_row1_col0\" class=\"data row1 col0\" >2002-10-27 02:00:00</td>\n",
       "      <td id=\"T_ab3fd_row1_col1\" class=\"data row1 col1\" >nan</td>\n",
       "    </tr>\n",
       "    <tr>\n",
       "      <th id=\"T_ab3fd_level0_row2\" class=\"row_heading level0 row2\" >145368</th>\n",
       "      <td id=\"T_ab3fd_row2_col0\" class=\"data row2 col0\" >2003-04-06 03:00:00</td>\n",
       "      <td id=\"T_ab3fd_row2_col1\" class=\"data row2 col1\" >nan</td>\n",
       "    </tr>\n",
       "    <tr>\n",
       "      <th id=\"T_ab3fd_level0_row3\" class=\"row_heading level0 row3\" >145369</th>\n",
       "      <td id=\"T_ab3fd_row3_col0\" class=\"data row3 col0\" >2003-10-26 02:00:00</td>\n",
       "      <td id=\"T_ab3fd_row3_col1\" class=\"data row3 col1\" >nan</td>\n",
       "    </tr>\n",
       "    <tr>\n",
       "      <th id=\"T_ab3fd_level0_row4\" class=\"row_heading level0 row4\" >145370</th>\n",
       "      <td id=\"T_ab3fd_row4_col0\" class=\"data row4 col0\" >2004-04-04 03:00:00</td>\n",
       "      <td id=\"T_ab3fd_row4_col1\" class=\"data row4 col1\" >nan</td>\n",
       "    </tr>\n",
       "    <tr>\n",
       "      <th id=\"T_ab3fd_level0_row5\" class=\"row_heading level0 row5\" >145371</th>\n",
       "      <td id=\"T_ab3fd_row5_col0\" class=\"data row5 col0\" >2004-10-31 02:00:00</td>\n",
       "      <td id=\"T_ab3fd_row5_col1\" class=\"data row5 col1\" >nan</td>\n",
       "    </tr>\n",
       "    <tr>\n",
       "      <th id=\"T_ab3fd_level0_row6\" class=\"row_heading level0 row6\" >145372</th>\n",
       "      <td id=\"T_ab3fd_row6_col0\" class=\"data row6 col0\" >2005-04-03 03:00:00</td>\n",
       "      <td id=\"T_ab3fd_row6_col1\" class=\"data row6 col1\" >nan</td>\n",
       "    </tr>\n",
       "    <tr>\n",
       "      <th id=\"T_ab3fd_level0_row7\" class=\"row_heading level0 row7\" >145373</th>\n",
       "      <td id=\"T_ab3fd_row7_col0\" class=\"data row7 col0\" >2005-10-30 02:00:00</td>\n",
       "      <td id=\"T_ab3fd_row7_col1\" class=\"data row7 col1\" >nan</td>\n",
       "    </tr>\n",
       "    <tr>\n",
       "      <th id=\"T_ab3fd_level0_row8\" class=\"row_heading level0 row8\" >145374</th>\n",
       "      <td id=\"T_ab3fd_row8_col0\" class=\"data row8 col0\" >2006-04-02 03:00:00</td>\n",
       "      <td id=\"T_ab3fd_row8_col1\" class=\"data row8 col1\" >nan</td>\n",
       "    </tr>\n",
       "    <tr>\n",
       "      <th id=\"T_ab3fd_level0_row9\" class=\"row_heading level0 row9\" >145375</th>\n",
       "      <td id=\"T_ab3fd_row9_col0\" class=\"data row9 col0\" >2006-10-29 02:00:00</td>\n",
       "      <td id=\"T_ab3fd_row9_col1\" class=\"data row9 col1\" >nan</td>\n",
       "    </tr>\n",
       "    <tr>\n",
       "      <th id=\"T_ab3fd_level0_row10\" class=\"row_heading level0 row10\" >145376</th>\n",
       "      <td id=\"T_ab3fd_row10_col0\" class=\"data row10 col0\" >2007-03-11 03:00:00</td>\n",
       "      <td id=\"T_ab3fd_row10_col1\" class=\"data row10 col1\" >nan</td>\n",
       "    </tr>\n",
       "    <tr>\n",
       "      <th id=\"T_ab3fd_level0_row11\" class=\"row_heading level0 row11\" >145377</th>\n",
       "      <td id=\"T_ab3fd_row11_col0\" class=\"data row11 col0\" >2007-11-04 02:00:00</td>\n",
       "      <td id=\"T_ab3fd_row11_col1\" class=\"data row11 col1\" >nan</td>\n",
       "    </tr>\n",
       "    <tr>\n",
       "      <th id=\"T_ab3fd_level0_row12\" class=\"row_heading level0 row12\" >145378</th>\n",
       "      <td id=\"T_ab3fd_row12_col0\" class=\"data row12 col0\" >2008-03-09 03:00:00</td>\n",
       "      <td id=\"T_ab3fd_row12_col1\" class=\"data row12 col1\" >nan</td>\n",
       "    </tr>\n",
       "    <tr>\n",
       "      <th id=\"T_ab3fd_level0_row13\" class=\"row_heading level0 row13\" >145379</th>\n",
       "      <td id=\"T_ab3fd_row13_col0\" class=\"data row13 col0\" >2008-11-02 02:00:00</td>\n",
       "      <td id=\"T_ab3fd_row13_col1\" class=\"data row13 col1\" >nan</td>\n",
       "    </tr>\n",
       "    <tr>\n",
       "      <th id=\"T_ab3fd_level0_row14\" class=\"row_heading level0 row14\" >145380</th>\n",
       "      <td id=\"T_ab3fd_row14_col0\" class=\"data row14 col0\" >2009-03-08 03:00:00</td>\n",
       "      <td id=\"T_ab3fd_row14_col1\" class=\"data row14 col1\" >nan</td>\n",
       "    </tr>\n",
       "    <tr>\n",
       "      <th id=\"T_ab3fd_level0_row15\" class=\"row_heading level0 row15\" >145381</th>\n",
       "      <td id=\"T_ab3fd_row15_col0\" class=\"data row15 col0\" >2009-11-01 02:00:00</td>\n",
       "      <td id=\"T_ab3fd_row15_col1\" class=\"data row15 col1\" >nan</td>\n",
       "    </tr>\n",
       "    <tr>\n",
       "      <th id=\"T_ab3fd_level0_row16\" class=\"row_heading level0 row16\" >145382</th>\n",
       "      <td id=\"T_ab3fd_row16_col0\" class=\"data row16 col0\" >2010-03-14 03:00:00</td>\n",
       "      <td id=\"T_ab3fd_row16_col1\" class=\"data row16 col1\" >nan</td>\n",
       "    </tr>\n",
       "    <tr>\n",
       "      <th id=\"T_ab3fd_level0_row17\" class=\"row_heading level0 row17\" >145383</th>\n",
       "      <td id=\"T_ab3fd_row17_col0\" class=\"data row17 col0\" >2010-11-07 02:00:00</td>\n",
       "      <td id=\"T_ab3fd_row17_col1\" class=\"data row17 col1\" >nan</td>\n",
       "    </tr>\n",
       "    <tr>\n",
       "      <th id=\"T_ab3fd_level0_row18\" class=\"row_heading level0 row18\" >145384</th>\n",
       "      <td id=\"T_ab3fd_row18_col0\" class=\"data row18 col0\" >2010-12-10 00:00:00</td>\n",
       "      <td id=\"T_ab3fd_row18_col1\" class=\"data row18 col1\" >nan</td>\n",
       "    </tr>\n",
       "    <tr>\n",
       "      <th id=\"T_ab3fd_level0_row19\" class=\"row_heading level0 row19\" >145385</th>\n",
       "      <td id=\"T_ab3fd_row19_col0\" class=\"data row19 col0\" >2011-03-13 03:00:00</td>\n",
       "      <td id=\"T_ab3fd_row19_col1\" class=\"data row19 col1\" >nan</td>\n",
       "    </tr>\n",
       "    <tr>\n",
       "      <th id=\"T_ab3fd_level0_row20\" class=\"row_heading level0 row20\" >145386</th>\n",
       "      <td id=\"T_ab3fd_row20_col0\" class=\"data row20 col0\" >2011-11-06 02:00:00</td>\n",
       "      <td id=\"T_ab3fd_row20_col1\" class=\"data row20 col1\" >nan</td>\n",
       "    </tr>\n",
       "    <tr>\n",
       "      <th id=\"T_ab3fd_level0_row21\" class=\"row_heading level0 row21\" >145387</th>\n",
       "      <td id=\"T_ab3fd_row21_col0\" class=\"data row21 col0\" >2012-03-11 03:00:00</td>\n",
       "      <td id=\"T_ab3fd_row21_col1\" class=\"data row21 col1\" >nan</td>\n",
       "    </tr>\n",
       "    <tr>\n",
       "      <th id=\"T_ab3fd_level0_row22\" class=\"row_heading level0 row22\" >145388</th>\n",
       "      <td id=\"T_ab3fd_row22_col0\" class=\"data row22 col0\" >2012-11-04 02:00:00</td>\n",
       "      <td id=\"T_ab3fd_row22_col1\" class=\"data row22 col1\" >nan</td>\n",
       "    </tr>\n",
       "    <tr>\n",
       "      <th id=\"T_ab3fd_level0_row23\" class=\"row_heading level0 row23\" >145389</th>\n",
       "      <td id=\"T_ab3fd_row23_col0\" class=\"data row23 col0\" >2013-03-10 03:00:00</td>\n",
       "      <td id=\"T_ab3fd_row23_col1\" class=\"data row23 col1\" >nan</td>\n",
       "    </tr>\n",
       "    <tr>\n",
       "      <th id=\"T_ab3fd_level0_row24\" class=\"row_heading level0 row24\" >145390</th>\n",
       "      <td id=\"T_ab3fd_row24_col0\" class=\"data row24 col0\" >2013-11-03 02:00:00</td>\n",
       "      <td id=\"T_ab3fd_row24_col1\" class=\"data row24 col1\" >nan</td>\n",
       "    </tr>\n",
       "    <tr>\n",
       "      <th id=\"T_ab3fd_level0_row25\" class=\"row_heading level0 row25\" >145391</th>\n",
       "      <td id=\"T_ab3fd_row25_col0\" class=\"data row25 col0\" >2014-03-09 03:00:00</td>\n",
       "      <td id=\"T_ab3fd_row25_col1\" class=\"data row25 col1\" >nan</td>\n",
       "    </tr>\n",
       "    <tr>\n",
       "      <th id=\"T_ab3fd_level0_row26\" class=\"row_heading level0 row26\" >145392</th>\n",
       "      <td id=\"T_ab3fd_row26_col0\" class=\"data row26 col0\" >2015-03-08 03:00:00</td>\n",
       "      <td id=\"T_ab3fd_row26_col1\" class=\"data row26 col1\" >nan</td>\n",
       "    </tr>\n",
       "    <tr>\n",
       "      <th id=\"T_ab3fd_level0_row27\" class=\"row_heading level0 row27\" >145393</th>\n",
       "      <td id=\"T_ab3fd_row27_col0\" class=\"data row27 col0\" >2016-03-13 03:00:00</td>\n",
       "      <td id=\"T_ab3fd_row27_col1\" class=\"data row27 col1\" >nan</td>\n",
       "    </tr>\n",
       "    <tr>\n",
       "      <th id=\"T_ab3fd_level0_row28\" class=\"row_heading level0 row28\" >145394</th>\n",
       "      <td id=\"T_ab3fd_row28_col0\" class=\"data row28 col0\" >2017-03-12 03:00:00</td>\n",
       "      <td id=\"T_ab3fd_row28_col1\" class=\"data row28 col1\" >nan</td>\n",
       "    </tr>\n",
       "    <tr>\n",
       "      <th id=\"T_ab3fd_level0_row29\" class=\"row_heading level0 row29\" >145395</th>\n",
       "      <td id=\"T_ab3fd_row29_col0\" class=\"data row29 col0\" >2018-03-11 03:00:00</td>\n",
       "      <td id=\"T_ab3fd_row29_col1\" class=\"data row29 col1\" >nan</td>\n",
       "    </tr>\n",
       "  </tbody>\n",
       "</table>\n"
      ],
      "text/plain": [
       "<pandas.io.formats.style.Styler at 0x7f4e013cc3d0>"
      ]
     },
     "metadata": {},
     "output_type": "display_data"
    }
   ],
   "source": [
    "# eksik değerlerimizi bi inceleyelim:\n",
    "display(df[df.isnull().any(axis=1)].style.set_table_styles([headers]))\n"
   ]
  },
  {
   "cell_type": "markdown",
   "id": "4109a602",
   "metadata": {
    "papermill": {
     "duration": 0.024038,
     "end_time": "2023-01-03T02:33:02.850607",
     "exception": false,
     "start_time": "2023-01-03T02:33:02.826569",
     "status": "completed"
    },
    "tags": []
   },
   "source": [
    "Eksik PJM_Load_MW değerlerinin doldurulması:"
   ]
  },
  {
   "cell_type": "code",
   "execution_count": 24,
   "id": "5bffbf7e",
   "metadata": {
    "execution": {
     "iopub.execute_input": "2023-01-03T02:33:02.899811Z",
     "iopub.status.busy": "2023-01-03T02:33:02.898909Z",
     "iopub.status.idle": "2023-01-03T02:33:02.909589Z",
     "shell.execute_reply": "2023-01-03T02:33:02.907614Z"
    },
    "papermill": {
     "duration": 0.039322,
     "end_time": "2023-01-03T02:33:02.913012",
     "exception": false,
     "start_time": "2023-01-03T02:33:02.873690",
     "status": "completed"
    },
    "tags": []
   },
   "outputs": [],
   "source": [
    "df = df.set_index('Datetime')"
   ]
  },
  {
   "cell_type": "code",
   "execution_count": 25,
   "id": "48e2c1a6",
   "metadata": {
    "execution": {
     "iopub.execute_input": "2023-01-03T02:33:02.963297Z",
     "iopub.status.busy": "2023-01-03T02:33:02.962748Z",
     "iopub.status.idle": "2023-01-03T02:33:02.980714Z",
     "shell.execute_reply": "2023-01-03T02:33:02.978947Z"
    },
    "papermill": {
     "duration": 0.046813,
     "end_time": "2023-01-03T02:33:02.983806",
     "exception": false,
     "start_time": "2023-01-03T02:33:02.936993",
     "status": "completed"
    },
    "tags": []
   },
   "outputs": [],
   "source": [
    "df.index = pd.to_datetime(df.index)"
   ]
  },
  {
   "cell_type": "code",
   "execution_count": 26,
   "id": "99b97b99",
   "metadata": {
    "execution": {
     "iopub.execute_input": "2023-01-03T02:33:03.033308Z",
     "iopub.status.busy": "2023-01-03T02:33:03.032764Z",
     "iopub.status.idle": "2023-01-03T02:33:03.049826Z",
     "shell.execute_reply": "2023-01-03T02:33:03.048289Z"
    },
    "papermill": {
     "duration": 0.045403,
     "end_time": "2023-01-03T02:33:03.053325",
     "exception": false,
     "start_time": "2023-01-03T02:33:03.007922",
     "status": "completed"
    },
    "tags": []
   },
   "outputs": [],
   "source": [
    "df = df.sort_index()"
   ]
  },
  {
   "cell_type": "code",
   "execution_count": 27,
   "id": "1d402219",
   "metadata": {
    "execution": {
     "iopub.execute_input": "2023-01-03T02:33:03.103164Z",
     "iopub.status.busy": "2023-01-03T02:33:03.102647Z",
     "iopub.status.idle": "2023-01-03T02:33:03.121751Z",
     "shell.execute_reply": "2023-01-03T02:33:03.120731Z"
    },
    "papermill": {
     "duration": 0.04762,
     "end_time": "2023-01-03T02:33:03.124960",
     "exception": false,
     "start_time": "2023-01-03T02:33:03.077340",
     "status": "completed"
    },
    "tags": []
   },
   "outputs": [],
   "source": [
    "df.interpolate(limit_direction=\"both\",inplace=True)"
   ]
  },
  {
   "cell_type": "markdown",
   "id": "f20b1717",
   "metadata": {
    "papermill": {
     "duration": 0.022503,
     "end_time": "2023-01-03T02:33:03.169915",
     "exception": false,
     "start_time": "2023-01-03T02:33:03.147412",
     "status": "completed"
    },
    "tags": []
   },
   "source": [
    "Kontrol ediyoruz:"
   ]
  },
  {
   "cell_type": "code",
   "execution_count": 28,
   "id": "e4258092",
   "metadata": {
    "execution": {
     "iopub.execute_input": "2023-01-03T02:33:03.216054Z",
     "iopub.status.busy": "2023-01-03T02:33:03.215463Z",
     "iopub.status.idle": "2023-01-03T02:33:04.743700Z",
     "shell.execute_reply": "2023-01-03T02:33:04.741785Z"
    },
    "papermill": {
     "duration": 1.55584,
     "end_time": "2023-01-03T02:33:04.747529",
     "exception": false,
     "start_time": "2023-01-03T02:33:03.191689",
     "status": "completed"
    },
    "tags": []
   },
   "outputs": [
    {
     "name": "stdout",
     "output_type": "stream",
     "text": [
      "___________________________________________________________________\n",
      "SHAPE______________________________________________________________\n",
      " \n",
      "(145396, 1)\n",
      "\n",
      "\n",
      "___________________________________________________________________\n",
      "TYPES______________________________________________________________\n",
      " \n",
      "PJME_MW    float64\n",
      "dtype: object\n",
      "\n",
      "\n",
      "___________________________________________________________________\n",
      "NA_________________________________________________________________\n",
      " \n",
      "PJME_MW    0\n",
      "dtype: int64\n",
      "\n",
      "\n",
      "___________________________________________________________________\n",
      "Nunique____________________________________________________________\n",
      " \n",
      "PJME_MW    28455\n",
      "dtype: int64\n",
      "\n",
      "\n",
      "___________________________________________________________________\n",
      "HEAD_______________________________________________________________\n",
      " \n"
     ]
    },
    {
     "data": {
      "text/html": [
       "<style type=\"text/css\">\n",
       "#T_91a50_ th:not(.index_name) {\n",
       "  background-color: #92b9ba;\n",
       "  color: white;\n",
       "}\n",
       "</style>\n",
       "<table id=\"T_91a50_\">\n",
       "  <thead>\n",
       "    <tr>\n",
       "      <th class=\"blank level0\" >&nbsp;</th>\n",
       "      <th class=\"col_heading level0 col0\" >PJME_MW</th>\n",
       "    </tr>\n",
       "    <tr>\n",
       "      <th class=\"index_name level0\" >Datetime</th>\n",
       "      <th class=\"blank col0\" >&nbsp;</th>\n",
       "    </tr>\n",
       "  </thead>\n",
       "  <tbody>\n",
       "    <tr>\n",
       "      <th id=\"T_91a50_level0_row0\" class=\"row_heading level0 row0\" >2002-01-01 01:00:00</th>\n",
       "      <td id=\"T_91a50_row0_col0\" class=\"data row0 col0\" >30393.000000</td>\n",
       "    </tr>\n",
       "    <tr>\n",
       "      <th id=\"T_91a50_level0_row1\" class=\"row_heading level0 row1\" >2002-01-01 02:00:00</th>\n",
       "      <td id=\"T_91a50_row1_col0\" class=\"data row1 col0\" >29265.000000</td>\n",
       "    </tr>\n",
       "    <tr>\n",
       "      <th id=\"T_91a50_level0_row2\" class=\"row_heading level0 row2\" >2002-01-01 03:00:00</th>\n",
       "      <td id=\"T_91a50_row2_col0\" class=\"data row2 col0\" >28357.000000</td>\n",
       "    </tr>\n",
       "    <tr>\n",
       "      <th id=\"T_91a50_level0_row3\" class=\"row_heading level0 row3\" >2002-01-01 04:00:00</th>\n",
       "      <td id=\"T_91a50_row3_col0\" class=\"data row3 col0\" >27899.000000</td>\n",
       "    </tr>\n",
       "    <tr>\n",
       "      <th id=\"T_91a50_level0_row4\" class=\"row_heading level0 row4\" >2002-01-01 05:00:00</th>\n",
       "      <td id=\"T_91a50_row4_col0\" class=\"data row4 col0\" >28057.000000</td>\n",
       "    </tr>\n",
       "    <tr>\n",
       "      <th id=\"T_91a50_level0_row5\" class=\"row_heading level0 row5\" >2002-01-01 06:00:00</th>\n",
       "      <td id=\"T_91a50_row5_col0\" class=\"data row5 col0\" >28654.000000</td>\n",
       "    </tr>\n",
       "    <tr>\n",
       "      <th id=\"T_91a50_level0_row6\" class=\"row_heading level0 row6\" >2002-01-01 07:00:00</th>\n",
       "      <td id=\"T_91a50_row6_col0\" class=\"data row6 col0\" >29308.000000</td>\n",
       "    </tr>\n",
       "    <tr>\n",
       "      <th id=\"T_91a50_level0_row7\" class=\"row_heading level0 row7\" >2002-01-01 08:00:00</th>\n",
       "      <td id=\"T_91a50_row7_col0\" class=\"data row7 col0\" >29595.000000</td>\n",
       "    </tr>\n",
       "    <tr>\n",
       "      <th id=\"T_91a50_level0_row8\" class=\"row_heading level0 row8\" >2002-01-01 09:00:00</th>\n",
       "      <td id=\"T_91a50_row8_col0\" class=\"data row8 col0\" >29943.000000</td>\n",
       "    </tr>\n",
       "    <tr>\n",
       "      <th id=\"T_91a50_level0_row9\" class=\"row_heading level0 row9\" >2002-01-01 10:00:00</th>\n",
       "      <td id=\"T_91a50_row9_col0\" class=\"data row9 col0\" >30692.000000</td>\n",
       "    </tr>\n",
       "  </tbody>\n",
       "</table>\n"
      ],
      "text/plain": [
       "<pandas.io.formats.style.Styler at 0x7f4e014c1e50>"
      ]
     },
     "metadata": {},
     "output_type": "display_data"
    },
    {
     "name": "stdout",
     "output_type": "stream",
     "text": [
      "\n",
      "\n",
      "___________________________________________________________________\n",
      "TAIL_______________________________________________________________\n",
      " \n"
     ]
    },
    {
     "data": {
      "text/html": [
       "<style type=\"text/css\">\n",
       "#T_57238_ th:not(.index_name) {\n",
       "  background-color: #92b9ba;\n",
       "  color: white;\n",
       "}\n",
       "</style>\n",
       "<table id=\"T_57238_\">\n",
       "  <thead>\n",
       "    <tr>\n",
       "      <th class=\"blank level0\" >&nbsp;</th>\n",
       "      <th class=\"col_heading level0 col0\" >PJME_MW</th>\n",
       "    </tr>\n",
       "    <tr>\n",
       "      <th class=\"index_name level0\" >Datetime</th>\n",
       "      <th class=\"blank col0\" >&nbsp;</th>\n",
       "    </tr>\n",
       "  </thead>\n",
       "  <tbody>\n",
       "    <tr>\n",
       "      <th id=\"T_57238_level0_row0\" class=\"row_heading level0 row0\" >2018-08-02 15:00:00</th>\n",
       "      <td id=\"T_57238_row0_col0\" class=\"data row0 col0\" >47154.000000</td>\n",
       "    </tr>\n",
       "    <tr>\n",
       "      <th id=\"T_57238_level0_row1\" class=\"row_heading level0 row1\" >2018-08-02 16:00:00</th>\n",
       "      <td id=\"T_57238_row1_col0\" class=\"data row1 col0\" >46989.000000</td>\n",
       "    </tr>\n",
       "    <tr>\n",
       "      <th id=\"T_57238_level0_row2\" class=\"row_heading level0 row2\" >2018-08-02 17:00:00</th>\n",
       "      <td id=\"T_57238_row2_col0\" class=\"data row2 col0\" >46816.000000</td>\n",
       "    </tr>\n",
       "    <tr>\n",
       "      <th id=\"T_57238_level0_row3\" class=\"row_heading level0 row3\" >2018-08-02 18:00:00</th>\n",
       "      <td id=\"T_57238_row3_col0\" class=\"data row3 col0\" >46760.000000</td>\n",
       "    </tr>\n",
       "    <tr>\n",
       "      <th id=\"T_57238_level0_row4\" class=\"row_heading level0 row4\" >2018-08-02 19:00:00</th>\n",
       "      <td id=\"T_57238_row4_col0\" class=\"data row4 col0\" >45641.000000</td>\n",
       "    </tr>\n",
       "    <tr>\n",
       "      <th id=\"T_57238_level0_row5\" class=\"row_heading level0 row5\" >2018-08-02 20:00:00</th>\n",
       "      <td id=\"T_57238_row5_col0\" class=\"data row5 col0\" >44057.000000</td>\n",
       "    </tr>\n",
       "    <tr>\n",
       "      <th id=\"T_57238_level0_row6\" class=\"row_heading level0 row6\" >2018-08-02 21:00:00</th>\n",
       "      <td id=\"T_57238_row6_col0\" class=\"data row6 col0\" >43256.000000</td>\n",
       "    </tr>\n",
       "    <tr>\n",
       "      <th id=\"T_57238_level0_row7\" class=\"row_heading level0 row7\" >2018-08-02 22:00:00</th>\n",
       "      <td id=\"T_57238_row7_col0\" class=\"data row7 col0\" >41552.000000</td>\n",
       "    </tr>\n",
       "    <tr>\n",
       "      <th id=\"T_57238_level0_row8\" class=\"row_heading level0 row8\" >2018-08-02 23:00:00</th>\n",
       "      <td id=\"T_57238_row8_col0\" class=\"data row8 col0\" >38500.000000</td>\n",
       "    </tr>\n",
       "    <tr>\n",
       "      <th id=\"T_57238_level0_row9\" class=\"row_heading level0 row9\" >2018-08-03 00:00:00</th>\n",
       "      <td id=\"T_57238_row9_col0\" class=\"data row9 col0\" >35486.000000</td>\n",
       "    </tr>\n",
       "  </tbody>\n",
       "</table>\n"
      ],
      "text/plain": [
       "<pandas.io.formats.style.Styler at 0x7f4e014c1e50>"
      ]
     },
     "metadata": {},
     "output_type": "display_data"
    },
    {
     "name": "stdout",
     "output_type": "stream",
     "text": [
      "\n",
      "\n",
      "___________________________________________________________________\n",
      "QUANTILES__________________________________________________________\n",
      " \n"
     ]
    },
    {
     "data": {
      "text/html": [
       "<style type=\"text/css\">\n",
       "#T_526bd_ th:not(.index_name) {\n",
       "  background-color: #92b9ba;\n",
       "  color: white;\n",
       "}\n",
       "</style>\n",
       "<table id=\"T_526bd_\">\n",
       "  <thead>\n",
       "    <tr>\n",
       "      <th class=\"blank level0\" >&nbsp;</th>\n",
       "      <th class=\"col_heading level0 col0\" >0.0</th>\n",
       "      <th class=\"col_heading level0 col1\" >0.05</th>\n",
       "      <th class=\"col_heading level0 col2\" >0.5</th>\n",
       "      <th class=\"col_heading level0 col3\" >0.95</th>\n",
       "      <th class=\"col_heading level0 col4\" >0.99</th>\n",
       "      <th class=\"col_heading level0 col5\" >1.0</th>\n",
       "    </tr>\n",
       "  </thead>\n",
       "  <tbody>\n",
       "    <tr>\n",
       "      <th id=\"T_526bd_level0_row0\" class=\"row_heading level0 row0\" >PJME_MW</th>\n",
       "      <td id=\"T_526bd_row0_col0\" class=\"data row0 col0\" >14544.000000</td>\n",
       "      <td id=\"T_526bd_row0_col1\" class=\"data row0 col1\" >22622.000000</td>\n",
       "      <td id=\"T_526bd_row0_col2\" class=\"data row0 col2\" >31420.000000</td>\n",
       "      <td id=\"T_526bd_row0_col3\" class=\"data row0 col3\" >44187.000000</td>\n",
       "      <td id=\"T_526bd_row0_col4\" class=\"data row0 col4\" >51155.200000</td>\n",
       "      <td id=\"T_526bd_row0_col5\" class=\"data row0 col5\" >62009.000000</td>\n",
       "    </tr>\n",
       "  </tbody>\n",
       "</table>\n"
      ],
      "text/plain": [
       "<pandas.io.formats.style.Styler at 0x7f4e00a76450>"
      ]
     },
     "metadata": {},
     "output_type": "display_data"
    },
    {
     "name": "stdout",
     "output_type": "stream",
     "text": [
      "\n",
      "\n",
      "___________________________________________________________________\n",
      "PLOT_______________________________________________________________\n",
      " \n"
     ]
    },
    {
     "data": {
      "image/png": "[encoded data removed]",
      "text/plain": [
       "<Figure size 1080x360 with 1 Axes>"
      ]
     },
     "metadata": {
      "needs_background": "light"
     },
     "output_type": "display_data"
    }
   ],
   "source": [
    "check_df(df,time=True)"
   ]
  },
  {
   "cell_type": "markdown",
   "id": "ac7f4141",
   "metadata": {
    "papermill": {
     "duration": 0.02744,
     "end_time": "2023-01-03T02:33:04.800470",
     "exception": false,
     "start_time": "2023-01-03T02:33:04.773030",
     "status": "completed"
    },
    "tags": []
   },
   "source": [
    "## 4.4- Aykırı verileri baskılama:"
   ]
  },
  {
   "cell_type": "code",
   "execution_count": 29,
   "id": "34cfc5f7",
   "metadata": {
    "execution": {
     "iopub.execute_input": "2023-01-03T02:33:04.852075Z",
     "iopub.status.busy": "2023-01-03T02:33:04.851569Z",
     "iopub.status.idle": "2023-01-03T02:33:04.874097Z",
     "shell.execute_reply": "2023-01-03T02:33:04.872692Z"
    },
    "papermill": {
     "duration": 0.052459,
     "end_time": "2023-01-03T02:33:04.877496",
     "exception": false,
     "start_time": "2023-01-03T02:33:04.825037",
     "status": "completed"
    },
    "tags": []
   },
   "outputs": [],
   "source": [
    "df['month'] = df.index.month"
   ]
  },
  {
   "cell_type": "code",
   "execution_count": 30,
   "id": "2c940302",
   "metadata": {
    "execution": {
     "iopub.execute_input": "2023-01-03T02:33:04.931451Z",
     "iopub.status.busy": "2023-01-03T02:33:04.930915Z",
     "iopub.status.idle": "2023-01-03T02:33:04.940958Z",
     "shell.execute_reply": "2023-01-03T02:33:04.939557Z"
    },
    "papermill": {
     "duration": 0.040636,
     "end_time": "2023-01-03T02:33:04.944296",
     "exception": false,
     "start_time": "2023-01-03T02:33:04.903660",
     "status": "completed"
    },
    "tags": []
   },
   "outputs": [],
   "source": [
    "df=df.reset_index()"
   ]
  },
  {
   "cell_type": "code",
   "execution_count": 31,
   "id": "cece7995",
   "metadata": {
    "execution": {
     "iopub.execute_input": "2023-01-03T02:33:04.996817Z",
     "iopub.status.busy": "2023-01-03T02:33:04.996284Z",
     "iopub.status.idle": "2023-01-03T02:33:08.372374Z",
     "shell.execute_reply": "2023-01-03T02:33:08.370844Z"
    },
    "papermill": {
     "duration": 3.405036,
     "end_time": "2023-01-03T02:33:08.375610",
     "exception": false,
     "start_time": "2023-01-03T02:33:04.970574",
     "status": "completed"
    },
    "tags": []
   },
   "outputs": [],
   "source": [
    "for i in range(len(df)):\n",
    "    if df.loc[i,\"PJME_MW\"]< 19100:\n",
    "        df.loc[i,\"PJME_MW\"] = 19100\n",
    "    elif df.loc[i,\"PJME_MW\"]> 60100:\n",
    "        df.loc[i,\"PJME_MW\"] = 60100\n",
    "        "
   ]
  },
  {
   "cell_type": "markdown",
   "id": "ed1b9859",
   "metadata": {
    "papermill": {
     "duration": 0.023667,
     "end_time": "2023-01-03T02:33:08.423804",
     "exception": false,
     "start_time": "2023-01-03T02:33:08.400137",
     "status": "completed"
    },
    "tags": []
   },
   "source": [
    "En uç değerleri baskıladım. Bu baskılama işlemim 17 yıllık bir veri setinin sadece en uç 3 ayı için yapılmış olduğunu grafikteki aykırılıklara bakarak görebiliriz. \n",
    "Şimdi veri setinin genelinde aylara göre aykırı değer işlemi gerçekleştireceğim. "
   ]
  },
  {
   "cell_type": "code",
   "execution_count": 32,
   "id": "2fc3a82d",
   "metadata": {
    "execution": {
     "iopub.execute_input": "2023-01-03T02:33:08.474482Z",
     "iopub.status.busy": "2023-01-03T02:33:08.473935Z",
     "iopub.status.idle": "2023-01-03T02:33:08.484826Z",
     "shell.execute_reply": "2023-01-03T02:33:08.483790Z"
    },
    "papermill": {
     "duration": 0.039006,
     "end_time": "2023-01-03T02:33:08.487362",
     "exception": false,
     "start_time": "2023-01-03T02:33:08.448356",
     "status": "completed"
    },
    "tags": []
   },
   "outputs": [],
   "source": [
    "def groupby_thresholds(df, col_name1,col_name2, q1=0.25, q3=0.75):\n",
    "    df[\"lower\"] = df.groupby(col_name1)[col_name2].transform(lambda x: x.quantile(q1))\n",
    "    df[\"upper\"] = df.groupby(col_name1)[col_name2].transform(lambda x: x.quantile(q3))\n",
    "    df[\"lower\"] = df.lower.astype(np.float16)\n",
    "    df[\"upper\"] = df.upper.astype(np.float16)\n",
    "    df[\"interquantile_range\"] = df[\"upper\"] - df[\"lower\"]\n",
    "    df[\"uplimit\"]= df[\"upper\"] + 1.5 * df[\"interquantile_range\"]\n",
    "    df[\"lowlimit\"]= df[\"lower\"] - 1.5 * df[\"interquantile_range\"]\n",
    "    df[\"uplimit\"] = df.uplimit.astype(np.float16)\n",
    "    df[\"lowlimit\"] = df.lowlimit.astype(np.float16)\n",
    "    df.drop(['lower', 'upper', 'interquantile_range'], axis=1, inplace=True)\n",
    "    print(\"işlem tamamlandı\")\n",
    "    \n"
   ]
  },
  {
   "cell_type": "code",
   "execution_count": 33,
   "id": "51b35ad9",
   "metadata": {
    "execution": {
     "iopub.execute_input": "2023-01-03T02:33:08.540548Z",
     "iopub.status.busy": "2023-01-03T02:33:08.540022Z",
     "iopub.status.idle": "2023-01-03T02:33:08.801085Z",
     "shell.execute_reply": "2023-01-03T02:33:08.799297Z"
    },
    "papermill": {
     "duration": 0.291998,
     "end_time": "2023-01-03T02:33:08.804880",
     "exception": false,
     "start_time": "2023-01-03T02:33:08.512882",
     "status": "completed"
    },
    "tags": []
   },
   "outputs": [
    {
     "name": "stdout",
     "output_type": "stream",
     "text": [
      "işlem tamamlandı\n"
     ]
    }
   ],
   "source": [
    "groupby_thresholds(df,col_name1=[\"month\"],col_name2=[\"PJME_MW\"])"
   ]
  },
  {
   "cell_type": "code",
   "execution_count": 34,
   "id": "0479b492",
   "metadata": {
    "execution": {
     "iopub.execute_input": "2023-01-03T02:33:08.857824Z",
     "iopub.status.busy": "2023-01-03T02:33:08.857338Z",
     "iopub.status.idle": "2023-01-03T02:33:08.866381Z",
     "shell.execute_reply": "2023-01-03T02:33:08.864858Z"
    },
    "papermill": {
     "duration": 0.038602,
     "end_time": "2023-01-03T02:33:08.869717",
     "exception": false,
     "start_time": "2023-01-03T02:33:08.831115",
     "status": "completed"
    },
    "tags": []
   },
   "outputs": [],
   "source": [
    "df=df.reset_index()"
   ]
  },
  {
   "cell_type": "code",
   "execution_count": 35,
   "id": "b2aa99b2",
   "metadata": {
    "execution": {
     "iopub.execute_input": "2023-01-03T02:33:08.922135Z",
     "iopub.status.busy": "2023-01-03T02:33:08.921664Z",
     "iopub.status.idle": "2023-01-03T02:33:12.787891Z",
     "shell.execute_reply": "2023-01-03T02:33:12.786635Z"
    },
    "papermill": {
     "duration": 3.896626,
     "end_time": "2023-01-03T02:33:12.791113",
     "exception": false,
     "start_time": "2023-01-03T02:33:08.894487",
     "status": "completed"
    },
    "tags": []
   },
   "outputs": [],
   "source": [
    "for i in range(len(df)):\n",
    "    if df.loc[i,\"PJME_MW\"]> df.loc[i, \"uplimit\"]:\n",
    "        df.loc[i,\"PJME_MW\"] = df.loc[i, \"uplimit\"]"
   ]
  },
  {
   "cell_type": "markdown",
   "id": "2bed08b5",
   "metadata": {
    "papermill": {
     "duration": 0.024655,
     "end_time": "2023-01-03T02:33:12.840299",
     "exception": false,
     "start_time": "2023-01-03T02:33:12.815644",
     "status": "completed"
    },
    "tags": []
   },
   "source": [
    "ileride kullanacağım fonksiyonda zaten month ekleyeceğim için çıkarıyorum. fonksiyonumu bozmak istemiyorum :d"
   ]
  },
  {
   "cell_type": "code",
   "execution_count": 36,
   "id": "55bdd0bb",
   "metadata": {
    "execution": {
     "iopub.execute_input": "2023-01-03T02:33:12.892246Z",
     "iopub.status.busy": "2023-01-03T02:33:12.891338Z",
     "iopub.status.idle": "2023-01-03T02:33:12.903731Z",
     "shell.execute_reply": "2023-01-03T02:33:12.902268Z"
    },
    "papermill": {
     "duration": 0.041512,
     "end_time": "2023-01-03T02:33:12.906689",
     "exception": false,
     "start_time": "2023-01-03T02:33:12.865177",
     "status": "completed"
    },
    "tags": []
   },
   "outputs": [],
   "source": [
    "df.drop(['index','month','uplimit', 'lowlimit'], axis=1, inplace=True)"
   ]
  },
  {
   "cell_type": "code",
   "execution_count": 37,
   "id": "4e4878a8",
   "metadata": {
    "execution": {
     "iopub.execute_input": "2023-01-03T02:33:12.957153Z",
     "iopub.status.busy": "2023-01-03T02:33:12.956641Z",
     "iopub.status.idle": "2023-01-03T02:33:12.976660Z",
     "shell.execute_reply": "2023-01-03T02:33:12.975261Z"
    },
    "papermill": {
     "duration": 0.049297,
     "end_time": "2023-01-03T02:33:12.979835",
     "exception": false,
     "start_time": "2023-01-03T02:33:12.930538",
     "status": "completed"
    },
    "tags": []
   },
   "outputs": [],
   "source": [
    "df = df.set_index('Datetime')\n",
    "df.index = pd.to_datetime(df.index)\n",
    "df = df.sort_index()"
   ]
  },
  {
   "cell_type": "code",
   "execution_count": 38,
   "id": "33d93910",
   "metadata": {
    "execution": {
     "iopub.execute_input": "2023-01-03T02:33:13.030286Z",
     "iopub.status.busy": "2023-01-03T02:33:13.029342Z",
     "iopub.status.idle": "2023-01-03T02:33:14.253516Z",
     "shell.execute_reply": "2023-01-03T02:33:14.252327Z"
    },
    "papermill": {
     "duration": 1.252544,
     "end_time": "2023-01-03T02:33:14.256185",
     "exception": false,
     "start_time": "2023-01-03T02:33:13.003641",
     "status": "completed"
    },
    "tags": []
   },
   "outputs": [
    {
     "data": {
      "image/png": "[encoded data removed]",
      "text/plain": [
       "<Figure size 1080x360 with 1 Axes>"
      ]
     },
     "metadata": {
      "needs_background": "light"
     },
     "output_type": "display_data"
    }
   ],
   "source": [
    "df.plot(style='.',\n",
    "               figsize=(15, 5),\n",
    "               color=\"#92b9ba\")\n",
    "plt.show()"
   ]
  },
  {
   "cell_type": "markdown",
   "id": "9fab3234",
   "metadata": {
    "papermill": {
     "duration": 0.026579,
     "end_time": "2023-01-03T02:33:14.308684",
     "exception": false,
     "start_time": "2023-01-03T02:33:14.282105",
     "status": "completed"
    },
    "tags": []
   },
   "source": [
    "# 5- Özellik mühendisliği:"
   ]
  },
  {
   "cell_type": "markdown",
   "id": "c70d2111",
   "metadata": {
    "papermill": {
     "duration": 0.025583,
     "end_time": "2023-01-03T02:33:14.360528",
     "exception": false,
     "start_time": "2023-01-03T02:33:14.334945",
     "status": "completed"
    },
    "tags": []
   },
   "source": [
    "Yıl, ay, gün ve saat gibi değişkenler oluşturma:"
   ]
  },
  {
   "cell_type": "code",
   "execution_count": 39,
   "id": "cde67609",
   "metadata": {
    "execution": {
     "iopub.execute_input": "2023-01-03T02:33:14.415051Z",
     "iopub.status.busy": "2023-01-03T02:33:14.414556Z",
     "iopub.status.idle": "2023-01-03T02:33:14.423070Z",
     "shell.execute_reply": "2023-01-03T02:33:14.421710Z"
    },
    "papermill": {
     "duration": 0.038909,
     "end_time": "2023-01-03T02:33:14.425976",
     "exception": false,
     "start_time": "2023-01-03T02:33:14.387067",
     "status": "completed"
    },
    "tags": []
   },
   "outputs": [],
   "source": [
    "\n",
    "# tarih değişkenleri oluşturma\n",
    "def create_features(df):\n",
    "    df = df.copy()\n",
    "    df['hour'] = df.index.hour\n",
    "    df['dayofweek'] = df.index.dayofweek\n",
    "    df['quarter'] = df.index.quarter\n",
    "    df['month'] = df.index.month\n",
    "    df['year'] = df.index.year\n",
    "    df['dayofyear'] = df.index.dayofyear\n",
    "    df['dayofmonth'] = df.index.day\n",
    "    df['weekofyear'] = df.index.isocalendar().week\n",
    "    return df"
   ]
  },
  {
   "cell_type": "code",
   "execution_count": 40,
   "id": "f293107c",
   "metadata": {
    "execution": {
     "iopub.execute_input": "2023-01-03T02:33:14.480843Z",
     "iopub.status.busy": "2023-01-03T02:33:14.479972Z",
     "iopub.status.idle": "2023-01-03T02:33:14.645694Z",
     "shell.execute_reply": "2023-01-03T02:33:14.643797Z"
    },
    "papermill": {
     "duration": 0.196269,
     "end_time": "2023-01-03T02:33:14.648791",
     "exception": false,
     "start_time": "2023-01-03T02:33:14.452522",
     "status": "completed"
    },
    "tags": []
   },
   "outputs": [],
   "source": [
    "df = create_features(df)"
   ]
  },
  {
   "cell_type": "markdown",
   "id": "ebcb7e34",
   "metadata": {
    "papermill": {
     "duration": 0.026876,
     "end_time": "2023-01-03T02:33:14.701402",
     "exception": false,
     "start_time": "2023-01-03T02:33:14.674526",
     "status": "completed"
    },
    "tags": []
   },
   "source": [
    "Tatil değişkeni ekleme:"
   ]
  },
  {
   "cell_type": "code",
   "execution_count": 41,
   "id": "0bd026d1",
   "metadata": {
    "execution": {
     "iopub.execute_input": "2023-01-03T02:33:14.755722Z",
     "iopub.status.busy": "2023-01-03T02:33:14.755224Z",
     "iopub.status.idle": "2023-01-03T02:33:14.763486Z",
     "shell.execute_reply": "2023-01-03T02:33:14.761738Z"
    },
    "papermill": {
     "duration": 0.040038,
     "end_time": "2023-01-03T02:33:14.766630",
     "exception": false,
     "start_time": "2023-01-03T02:33:14.726592",
     "status": "completed"
    },
    "tags": []
   },
   "outputs": [],
   "source": [
    "def create_holiday(df, ulke=\"US\"):\n",
    "    holiday_list = []\n",
    "    year = df.index.year.unique()\n",
    "    year = year.values\n",
    "    year = year.tolist()\n",
    "    for y in year:\n",
    "        for holiday in holidays.CountryHoliday(country= ulke, years=[y]).items():\n",
    "            holiday_list.append(holiday)\n",
    "        holidays_df = pd.DataFrame(holiday_list, columns=[\"Datetime\", \"Holiday\"])\n",
    "        holidays_df= holidays_df.set_index('Datetime')\n",
    "    return holidays_df"
   ]
  },
  {
   "cell_type": "code",
   "execution_count": 42,
   "id": "2e03edfd",
   "metadata": {
    "execution": {
     "iopub.execute_input": "2023-01-03T02:33:14.820318Z",
     "iopub.status.busy": "2023-01-03T02:33:14.819830Z",
     "iopub.status.idle": "2023-01-03T02:33:14.875677Z",
     "shell.execute_reply": "2023-01-03T02:33:14.874313Z"
    },
    "papermill": {
     "duration": 0.086694,
     "end_time": "2023-01-03T02:33:14.879077",
     "exception": false,
     "start_time": "2023-01-03T02:33:14.792383",
     "status": "completed"
    },
    "tags": []
   },
   "outputs": [],
   "source": [
    "holiday_df= create_holiday(df, ulke=\"US\")"
   ]
  },
  {
   "cell_type": "code",
   "execution_count": 43,
   "id": "40bbdcc7",
   "metadata": {
    "execution": {
     "iopub.execute_input": "2023-01-03T02:33:14.931739Z",
     "iopub.status.busy": "2023-01-03T02:33:14.931145Z",
     "iopub.status.idle": "2023-01-03T02:33:14.943742Z",
     "shell.execute_reply": "2023-01-03T02:33:14.942430Z"
    },
    "papermill": {
     "duration": 0.042568,
     "end_time": "2023-01-03T02:33:14.946631",
     "exception": false,
     "start_time": "2023-01-03T02:33:14.904063",
     "status": "completed"
    },
    "tags": []
   },
   "outputs": [
    {
     "data": {
      "text/html": [
       "<style type=\"text/css\">\n",
       "#T_9f3dd_ th:not(.index_name) {\n",
       "  background-color: #92b9ba;\n",
       "  color: white;\n",
       "}\n",
       "</style>\n",
       "<table id=\"T_9f3dd_\">\n",
       "  <thead>\n",
       "    <tr>\n",
       "      <th class=\"blank level0\" >&nbsp;</th>\n",
       "      <th class=\"col_heading level0 col0\" >Holiday</th>\n",
       "    </tr>\n",
       "    <tr>\n",
       "      <th class=\"index_name level0\" >Datetime</th>\n",
       "      <th class=\"blank col0\" >&nbsp;</th>\n",
       "    </tr>\n",
       "  </thead>\n",
       "  <tbody>\n",
       "    <tr>\n",
       "      <th id=\"T_9f3dd_level0_row0\" class=\"row_heading level0 row0\" >2002-01-01</th>\n",
       "      <td id=\"T_9f3dd_row0_col0\" class=\"data row0 col0\" >New Year's Day</td>\n",
       "    </tr>\n",
       "    <tr>\n",
       "      <th id=\"T_9f3dd_level0_row1\" class=\"row_heading level0 row1\" >2002-01-21</th>\n",
       "      <td id=\"T_9f3dd_row1_col0\" class=\"data row1 col0\" >Martin Luther King Jr. Day</td>\n",
       "    </tr>\n",
       "    <tr>\n",
       "      <th id=\"T_9f3dd_level0_row2\" class=\"row_heading level0 row2\" >2002-02-18</th>\n",
       "      <td id=\"T_9f3dd_row2_col0\" class=\"data row2 col0\" >Washington's Birthday</td>\n",
       "    </tr>\n",
       "    <tr>\n",
       "      <th id=\"T_9f3dd_level0_row3\" class=\"row_heading level0 row3\" >2002-05-27</th>\n",
       "      <td id=\"T_9f3dd_row3_col0\" class=\"data row3 col0\" >Memorial Day</td>\n",
       "    </tr>\n",
       "    <tr>\n",
       "      <th id=\"T_9f3dd_level0_row4\" class=\"row_heading level0 row4\" >2002-07-04</th>\n",
       "      <td id=\"T_9f3dd_row4_col0\" class=\"data row4 col0\" >Independence Day</td>\n",
       "    </tr>\n",
       "    <tr>\n",
       "      <th id=\"T_9f3dd_level0_row5\" class=\"row_heading level0 row5\" >2002-09-02</th>\n",
       "      <td id=\"T_9f3dd_row5_col0\" class=\"data row5 col0\" >Labor Day</td>\n",
       "    </tr>\n",
       "    <tr>\n",
       "      <th id=\"T_9f3dd_level0_row6\" class=\"row_heading level0 row6\" >2002-10-14</th>\n",
       "      <td id=\"T_9f3dd_row6_col0\" class=\"data row6 col0\" >Columbus Day</td>\n",
       "    </tr>\n",
       "    <tr>\n",
       "      <th id=\"T_9f3dd_level0_row7\" class=\"row_heading level0 row7\" >2002-11-11</th>\n",
       "      <td id=\"T_9f3dd_row7_col0\" class=\"data row7 col0\" >Veterans Day</td>\n",
       "    </tr>\n",
       "    <tr>\n",
       "      <th id=\"T_9f3dd_level0_row8\" class=\"row_heading level0 row8\" >2002-11-28</th>\n",
       "      <td id=\"T_9f3dd_row8_col0\" class=\"data row8 col0\" >Thanksgiving</td>\n",
       "    </tr>\n",
       "    <tr>\n",
       "      <th id=\"T_9f3dd_level0_row9\" class=\"row_heading level0 row9\" >2002-12-25</th>\n",
       "      <td id=\"T_9f3dd_row9_col0\" class=\"data row9 col0\" >Christmas Day</td>\n",
       "    </tr>\n",
       "  </tbody>\n",
       "</table>\n"
      ],
      "text/plain": [
       "<pandas.io.formats.style.Styler at 0x7f4dcacaaf90>"
      ]
     },
     "metadata": {},
     "output_type": "display_data"
    }
   ],
   "source": [
    "display(holiday_df.head(10).style.set_table_styles([headers]))"
   ]
  },
  {
   "cell_type": "code",
   "execution_count": 44,
   "id": "cc36ed5a",
   "metadata": {
    "execution": {
     "iopub.execute_input": "2023-01-03T02:33:15.000363Z",
     "iopub.status.busy": "2023-01-03T02:33:14.999825Z",
     "iopub.status.idle": "2023-01-03T02:33:15.007168Z",
     "shell.execute_reply": "2023-01-03T02:33:15.005715Z"
    },
    "papermill": {
     "duration": 0.037501,
     "end_time": "2023-01-03T02:33:15.009836",
     "exception": false,
     "start_time": "2023-01-03T02:33:14.972335",
     "status": "completed"
    },
    "tags": []
   },
   "outputs": [],
   "source": [
    "holiday_df = holiday_df.reset_index()"
   ]
  },
  {
   "cell_type": "markdown",
   "id": "f4ce5db4",
   "metadata": {
    "papermill": {
     "duration": 0.024876,
     "end_time": "2023-01-03T02:33:15.059779",
     "exception": false,
     "start_time": "2023-01-03T02:33:15.034903",
     "status": "completed"
    },
    "tags": []
   },
   "source": [
    "normal veri setimiz ile birleştirdiğimizde sadece 00.00a denk gelen saatlerimiz holiday olurken günün diğer saatleri nan dönmesin diye aşağıdaki işlemleri yapıyorum:"
   ]
  },
  {
   "cell_type": "code",
   "execution_count": 45,
   "id": "4e4ebb04",
   "metadata": {
    "execution": {
     "iopub.execute_input": "2023-01-03T02:33:15.115317Z",
     "iopub.status.busy": "2023-01-03T02:33:15.114786Z",
     "iopub.status.idle": "2023-01-03T02:33:16.427490Z",
     "shell.execute_reply": "2023-01-03T02:33:16.426064Z"
    },
    "papermill": {
     "duration": 1.346132,
     "end_time": "2023-01-03T02:33:16.431160",
     "exception": false,
     "start_time": "2023-01-03T02:33:15.085028",
     "status": "completed"
    },
    "tags": []
   },
   "outputs": [],
   "source": [
    "newholiday = pd.DataFrame(columns=['Holiday'])\n",
    "for i in range(len(holiday_df['Datetime'])):\n",
    "    newholiday=pd.concat([newholiday, (pd.date_range(holiday_df.loc[i,'Datetime'], periods=24, freq='H').to_frame(index=False))])"
   ]
  },
  {
   "cell_type": "code",
   "execution_count": 46,
   "id": "e2d419eb",
   "metadata": {
    "execution": {
     "iopub.execute_input": "2023-01-03T02:33:16.484827Z",
     "iopub.status.busy": "2023-01-03T02:33:16.484369Z",
     "iopub.status.idle": "2023-01-03T02:33:16.490801Z",
     "shell.execute_reply": "2023-01-03T02:33:16.489691Z"
    },
    "papermill": {
     "duration": 0.036334,
     "end_time": "2023-01-03T02:33:16.493378",
     "exception": false,
     "start_time": "2023-01-03T02:33:16.457044",
     "status": "completed"
    },
    "tags": []
   },
   "outputs": [],
   "source": [
    "newholiday=newholiday.rename(columns = {0:'Datetime'})"
   ]
  },
  {
   "cell_type": "code",
   "execution_count": 47,
   "id": "6f88ddab",
   "metadata": {
    "execution": {
     "iopub.execute_input": "2023-01-03T02:33:16.547129Z",
     "iopub.status.busy": "2023-01-03T02:33:16.546068Z",
     "iopub.status.idle": "2023-01-03T02:33:16.577909Z",
     "shell.execute_reply": "2023-01-03T02:33:16.576317Z"
    },
    "papermill": {
     "duration": 0.061609,
     "end_time": "2023-01-03T02:33:16.580799",
     "exception": false,
     "start_time": "2023-01-03T02:33:16.519190",
     "status": "completed"
    },
    "tags": []
   },
   "outputs": [],
   "source": [
    "newholiday = newholiday.fillna(1)"
   ]
  },
  {
   "cell_type": "code",
   "execution_count": 48,
   "id": "a75fc23e",
   "metadata": {
    "execution": {
     "iopub.execute_input": "2023-01-03T02:33:16.634896Z",
     "iopub.status.busy": "2023-01-03T02:33:16.634038Z",
     "iopub.status.idle": "2023-01-03T02:33:16.645238Z",
     "shell.execute_reply": "2023-01-03T02:33:16.644013Z"
    },
    "papermill": {
     "duration": 0.04096,
     "end_time": "2023-01-03T02:33:16.647866",
     "exception": false,
     "start_time": "2023-01-03T02:33:16.606906",
     "status": "completed"
    },
    "tags": []
   },
   "outputs": [
    {
     "data": {
      "text/html": [
       "<style type=\"text/css\">\n",
       "#T_214df_ th:not(.index_name) {\n",
       "  background-color: #92b9ba;\n",
       "  color: white;\n",
       "}\n",
       "</style>\n",
       "<table id=\"T_214df_\">\n",
       "  <thead>\n",
       "    <tr>\n",
       "      <th class=\"blank level0\" >&nbsp;</th>\n",
       "      <th class=\"col_heading level0 col0\" >Datetime</th>\n",
       "      <th class=\"col_heading level0 col1\" >Holiday</th>\n",
       "    </tr>\n",
       "  </thead>\n",
       "  <tbody>\n",
       "    <tr>\n",
       "      <th id=\"T_214df_level0_row0\" class=\"row_heading level0 row0\" >0</th>\n",
       "      <td id=\"T_214df_row0_col0\" class=\"data row0 col0\" >2002-01-01 00:00:00</td>\n",
       "      <td id=\"T_214df_row0_col1\" class=\"data row0 col1\" >1</td>\n",
       "    </tr>\n",
       "    <tr>\n",
       "      <th id=\"T_214df_level0_row1\" class=\"row_heading level0 row1\" >1</th>\n",
       "      <td id=\"T_214df_row1_col0\" class=\"data row1 col0\" >2002-01-01 01:00:00</td>\n",
       "      <td id=\"T_214df_row1_col1\" class=\"data row1 col1\" >1</td>\n",
       "    </tr>\n",
       "    <tr>\n",
       "      <th id=\"T_214df_level0_row2\" class=\"row_heading level0 row2\" >2</th>\n",
       "      <td id=\"T_214df_row2_col0\" class=\"data row2 col0\" >2002-01-01 02:00:00</td>\n",
       "      <td id=\"T_214df_row2_col1\" class=\"data row2 col1\" >1</td>\n",
       "    </tr>\n",
       "    <tr>\n",
       "      <th id=\"T_214df_level0_row3\" class=\"row_heading level0 row3\" >3</th>\n",
       "      <td id=\"T_214df_row3_col0\" class=\"data row3 col0\" >2002-01-01 03:00:00</td>\n",
       "      <td id=\"T_214df_row3_col1\" class=\"data row3 col1\" >1</td>\n",
       "    </tr>\n",
       "    <tr>\n",
       "      <th id=\"T_214df_level0_row4\" class=\"row_heading level0 row4\" >4</th>\n",
       "      <td id=\"T_214df_row4_col0\" class=\"data row4 col0\" >2002-01-01 04:00:00</td>\n",
       "      <td id=\"T_214df_row4_col1\" class=\"data row4 col1\" >1</td>\n",
       "    </tr>\n",
       "    <tr>\n",
       "      <th id=\"T_214df_level0_row5\" class=\"row_heading level0 row5\" >5</th>\n",
       "      <td id=\"T_214df_row5_col0\" class=\"data row5 col0\" >2002-01-01 05:00:00</td>\n",
       "      <td id=\"T_214df_row5_col1\" class=\"data row5 col1\" >1</td>\n",
       "    </tr>\n",
       "    <tr>\n",
       "      <th id=\"T_214df_level0_row6\" class=\"row_heading level0 row6\" >6</th>\n",
       "      <td id=\"T_214df_row6_col0\" class=\"data row6 col0\" >2002-01-01 06:00:00</td>\n",
       "      <td id=\"T_214df_row6_col1\" class=\"data row6 col1\" >1</td>\n",
       "    </tr>\n",
       "    <tr>\n",
       "      <th id=\"T_214df_level0_row7\" class=\"row_heading level0 row7\" >7</th>\n",
       "      <td id=\"T_214df_row7_col0\" class=\"data row7 col0\" >2002-01-01 07:00:00</td>\n",
       "      <td id=\"T_214df_row7_col1\" class=\"data row7 col1\" >1</td>\n",
       "    </tr>\n",
       "    <tr>\n",
       "      <th id=\"T_214df_level0_row8\" class=\"row_heading level0 row8\" >8</th>\n",
       "      <td id=\"T_214df_row8_col0\" class=\"data row8 col0\" >2002-01-01 08:00:00</td>\n",
       "      <td id=\"T_214df_row8_col1\" class=\"data row8 col1\" >1</td>\n",
       "    </tr>\n",
       "    <tr>\n",
       "      <th id=\"T_214df_level0_row9\" class=\"row_heading level0 row9\" >9</th>\n",
       "      <td id=\"T_214df_row9_col0\" class=\"data row9 col0\" >2002-01-01 09:00:00</td>\n",
       "      <td id=\"T_214df_row9_col1\" class=\"data row9 col1\" >1</td>\n",
       "    </tr>\n",
       "  </tbody>\n",
       "</table>\n"
      ],
      "text/plain": [
       "<pandas.io.formats.style.Styler at 0x7f4e013be990>"
      ]
     },
     "metadata": {},
     "output_type": "display_data"
    }
   ],
   "source": [
    "display(newholiday.head(10).style.set_table_styles([headers]))"
   ]
  },
  {
   "cell_type": "code",
   "execution_count": 49,
   "id": "21fc4052",
   "metadata": {
    "execution": {
     "iopub.execute_input": "2023-01-03T02:33:16.701709Z",
     "iopub.status.busy": "2023-01-03T02:33:16.700881Z",
     "iopub.status.idle": "2023-01-03T02:33:16.707220Z",
     "shell.execute_reply": "2023-01-03T02:33:16.706086Z"
    },
    "papermill": {
     "duration": 0.036518,
     "end_time": "2023-01-03T02:33:16.709942",
     "exception": false,
     "start_time": "2023-01-03T02:33:16.673424",
     "status": "completed"
    },
    "tags": []
   },
   "outputs": [],
   "source": [
    "newholiday = newholiday.set_index('Datetime')"
   ]
  },
  {
   "cell_type": "code",
   "execution_count": 50,
   "id": "ced7a30e",
   "metadata": {
    "execution": {
     "iopub.execute_input": "2023-01-03T02:33:16.766168Z",
     "iopub.status.busy": "2023-01-03T02:33:16.765335Z",
     "iopub.status.idle": "2023-01-03T02:33:16.777763Z",
     "shell.execute_reply": "2023-01-03T02:33:16.776281Z"
    },
    "papermill": {
     "duration": 0.044867,
     "end_time": "2023-01-03T02:33:16.781301",
     "exception": false,
     "start_time": "2023-01-03T02:33:16.736434",
     "status": "completed"
    },
    "tags": []
   },
   "outputs": [],
   "source": [
    "newholiday.index = pd.to_datetime(newholiday.index)"
   ]
  },
  {
   "cell_type": "markdown",
   "id": "3598402e",
   "metadata": {
    "papermill": {
     "duration": 0.025506,
     "end_time": "2023-01-03T02:33:16.832682",
     "exception": false,
     "start_time": "2023-01-03T02:33:16.807176",
     "status": "completed"
    },
    "tags": []
   },
   "source": [
    "artık tatillerimi normal veri setime ekleyebilirim"
   ]
  },
  {
   "cell_type": "code",
   "execution_count": 51,
   "id": "daa20cf9",
   "metadata": {
    "execution": {
     "iopub.execute_input": "2023-01-03T02:33:16.886640Z",
     "iopub.status.busy": "2023-01-03T02:33:16.886067Z",
     "iopub.status.idle": "2023-01-03T02:33:17.012955Z",
     "shell.execute_reply": "2023-01-03T02:33:17.011547Z"
    },
    "papermill": {
     "duration": 0.157635,
     "end_time": "2023-01-03T02:33:17.016223",
     "exception": false,
     "start_time": "2023-01-03T02:33:16.858588",
     "status": "completed"
    },
    "tags": []
   },
   "outputs": [],
   "source": [
    "df= df.join(newholiday)"
   ]
  },
  {
   "cell_type": "code",
   "execution_count": 52,
   "id": "9bc0c831",
   "metadata": {
    "execution": {
     "iopub.execute_input": "2023-01-03T02:33:17.070895Z",
     "iopub.status.busy": "2023-01-03T02:33:17.069452Z",
     "iopub.status.idle": "2023-01-03T02:33:17.101526Z",
     "shell.execute_reply": "2023-01-03T02:33:17.100005Z"
    },
    "papermill": {
     "duration": 0.062982,
     "end_time": "2023-01-03T02:33:17.104834",
     "exception": false,
     "start_time": "2023-01-03T02:33:17.041852",
     "status": "completed"
    },
    "tags": []
   },
   "outputs": [],
   "source": [
    "df = df.sort_index()"
   ]
  },
  {
   "cell_type": "code",
   "execution_count": 53,
   "id": "2b03ab37",
   "metadata": {
    "execution": {
     "iopub.execute_input": "2023-01-03T02:33:17.160649Z",
     "iopub.status.busy": "2023-01-03T02:33:17.159552Z",
     "iopub.status.idle": "2023-01-03T02:33:17.172052Z",
     "shell.execute_reply": "2023-01-03T02:33:17.170313Z"
    },
    "papermill": {
     "duration": 0.043811,
     "end_time": "2023-01-03T02:33:17.175450",
     "exception": false,
     "start_time": "2023-01-03T02:33:17.131639",
     "status": "completed"
    },
    "tags": []
   },
   "outputs": [],
   "source": [
    "df = df.fillna(0)"
   ]
  },
  {
   "cell_type": "markdown",
   "id": "796f7b45",
   "metadata": {
    "papermill": {
     "duration": 0.026112,
     "end_time": "2023-01-03T02:33:17.227218",
     "exception": false,
     "start_time": "2023-01-03T02:33:17.201106",
     "status": "completed"
    },
    "tags": []
   },
   "source": [
    "artık gerek duymadığımız veri setlerini siliyorum:"
   ]
  },
  {
   "cell_type": "code",
   "execution_count": 54,
   "id": "b5c52b53",
   "metadata": {
    "execution": {
     "iopub.execute_input": "2023-01-03T02:33:17.281664Z",
     "iopub.status.busy": "2023-01-03T02:33:17.281150Z",
     "iopub.status.idle": "2023-01-03T02:33:17.287821Z",
     "shell.execute_reply": "2023-01-03T02:33:17.286376Z"
    },
    "papermill": {
     "duration": 0.037252,
     "end_time": "2023-01-03T02:33:17.290431",
     "exception": false,
     "start_time": "2023-01-03T02:33:17.253179",
     "status": "completed"
    },
    "tags": []
   },
   "outputs": [],
   "source": [
    "del holiday_df"
   ]
  },
  {
   "cell_type": "code",
   "execution_count": 55,
   "id": "d9013e08",
   "metadata": {
    "execution": {
     "iopub.execute_input": "2023-01-03T02:33:17.345530Z",
     "iopub.status.busy": "2023-01-03T02:33:17.344089Z",
     "iopub.status.idle": "2023-01-03T02:33:17.349703Z",
     "shell.execute_reply": "2023-01-03T02:33:17.348656Z"
    },
    "papermill": {
     "duration": 0.036355,
     "end_time": "2023-01-03T02:33:17.352256",
     "exception": false,
     "start_time": "2023-01-03T02:33:17.315901",
     "status": "completed"
    },
    "tags": []
   },
   "outputs": [],
   "source": [
    "del newholiday"
   ]
  },
  {
   "cell_type": "markdown",
   "id": "a34733f1",
   "metadata": {
    "papermill": {
     "duration": 0.026819,
     "end_time": "2023-01-03T02:33:17.404742",
     "exception": false,
     "start_time": "2023-01-03T02:33:17.377923",
     "status": "completed"
    },
    "tags": []
   },
   "source": [
    "son halini kontrol edelim:"
   ]
  },
  {
   "cell_type": "code",
   "execution_count": 56,
   "id": "b40de22c",
   "metadata": {
    "execution": {
     "iopub.execute_input": "2023-01-03T02:33:17.460258Z",
     "iopub.status.busy": "2023-01-03T02:33:17.458753Z",
     "iopub.status.idle": "2023-01-03T02:33:17.633823Z",
     "shell.execute_reply": "2023-01-03T02:33:17.631806Z"
    },
    "papermill": {
     "duration": 0.205219,
     "end_time": "2023-01-03T02:33:17.636732",
     "exception": false,
     "start_time": "2023-01-03T02:33:17.431513",
     "status": "completed"
    },
    "tags": []
   },
   "outputs": [
    {
     "name": "stdout",
     "output_type": "stream",
     "text": [
      "___________________________________________________________________\n",
      "SHAPE______________________________________________________________\n",
      " \n",
      "(145396, 10)\n",
      "\n",
      "\n",
      "___________________________________________________________________\n",
      "TYPES______________________________________________________________\n",
      " \n",
      "PJME_MW       float64\n",
      "hour            int64\n",
      "dayofweek       int64\n",
      "quarter         int64\n",
      "month           int64\n",
      "year            int64\n",
      "dayofyear       int64\n",
      "dayofmonth      int64\n",
      "weekofyear     UInt32\n",
      "Holiday       float64\n",
      "dtype: object\n",
      "\n",
      "\n",
      "___________________________________________________________________\n",
      "NA_________________________________________________________________\n",
      " \n",
      "PJME_MW       0\n",
      "hour          0\n",
      "dayofweek     0\n",
      "quarter       0\n",
      "month         0\n",
      "year          0\n",
      "dayofyear     0\n",
      "dayofmonth    0\n",
      "weekofyear    0\n",
      "Holiday       0\n",
      "dtype: int64\n",
      "\n",
      "\n",
      "___________________________________________________________________\n",
      "Nunique____________________________________________________________\n",
      " \n",
      "PJME_MW       28181\n",
      "hour             24\n",
      "dayofweek         7\n",
      "quarter           4\n",
      "month            12\n",
      "year             17\n",
      "dayofyear       366\n",
      "dayofmonth       31\n",
      "weekofyear       53\n",
      "Holiday           2\n",
      "dtype: int64\n",
      "\n",
      "\n",
      "___________________________________________________________________\n",
      "HEAD_______________________________________________________________\n",
      " \n"
     ]
    },
    {
     "data": {
      "text/html": [
       "<style type=\"text/css\">\n",
       "#T_32425_ th:not(.index_name) {\n",
       "  background-color: #92b9ba;\n",
       "  color: white;\n",
       "}\n",
       "</style>\n",
       "<table id=\"T_32425_\">\n",
       "  <thead>\n",
       "    <tr>\n",
       "      <th class=\"blank level0\" >&nbsp;</th>\n",
       "      <th class=\"col_heading level0 col0\" >PJME_MW</th>\n",
       "      <th class=\"col_heading level0 col1\" >hour</th>\n",
       "      <th class=\"col_heading level0 col2\" >dayofweek</th>\n",
       "      <th class=\"col_heading level0 col3\" >quarter</th>\n",
       "      <th class=\"col_heading level0 col4\" >month</th>\n",
       "      <th class=\"col_heading level0 col5\" >year</th>\n",
       "      <th class=\"col_heading level0 col6\" >dayofyear</th>\n",
       "      <th class=\"col_heading level0 col7\" >dayofmonth</th>\n",
       "      <th class=\"col_heading level0 col8\" >weekofyear</th>\n",
       "      <th class=\"col_heading level0 col9\" >Holiday</th>\n",
       "    </tr>\n",
       "    <tr>\n",
       "      <th class=\"index_name level0\" >Datetime</th>\n",
       "      <th class=\"blank col0\" >&nbsp;</th>\n",
       "      <th class=\"blank col1\" >&nbsp;</th>\n",
       "      <th class=\"blank col2\" >&nbsp;</th>\n",
       "      <th class=\"blank col3\" >&nbsp;</th>\n",
       "      <th class=\"blank col4\" >&nbsp;</th>\n",
       "      <th class=\"blank col5\" >&nbsp;</th>\n",
       "      <th class=\"blank col6\" >&nbsp;</th>\n",
       "      <th class=\"blank col7\" >&nbsp;</th>\n",
       "      <th class=\"blank col8\" >&nbsp;</th>\n",
       "      <th class=\"blank col9\" >&nbsp;</th>\n",
       "    </tr>\n",
       "  </thead>\n",
       "  <tbody>\n",
       "    <tr>\n",
       "      <th id=\"T_32425_level0_row0\" class=\"row_heading level0 row0\" >2002-01-01 01:00:00</th>\n",
       "      <td id=\"T_32425_row0_col0\" class=\"data row0 col0\" >30393.000000</td>\n",
       "      <td id=\"T_32425_row0_col1\" class=\"data row0 col1\" >1</td>\n",
       "      <td id=\"T_32425_row0_col2\" class=\"data row0 col2\" >1</td>\n",
       "      <td id=\"T_32425_row0_col3\" class=\"data row0 col3\" >1</td>\n",
       "      <td id=\"T_32425_row0_col4\" class=\"data row0 col4\" >1</td>\n",
       "      <td id=\"T_32425_row0_col5\" class=\"data row0 col5\" >2002</td>\n",
       "      <td id=\"T_32425_row0_col6\" class=\"data row0 col6\" >1</td>\n",
       "      <td id=\"T_32425_row0_col7\" class=\"data row0 col7\" >1</td>\n",
       "      <td id=\"T_32425_row0_col8\" class=\"data row0 col8\" >1</td>\n",
       "      <td id=\"T_32425_row0_col9\" class=\"data row0 col9\" >1.000000</td>\n",
       "    </tr>\n",
       "    <tr>\n",
       "      <th id=\"T_32425_level0_row1\" class=\"row_heading level0 row1\" >2002-01-01 02:00:00</th>\n",
       "      <td id=\"T_32425_row1_col0\" class=\"data row1 col0\" >29265.000000</td>\n",
       "      <td id=\"T_32425_row1_col1\" class=\"data row1 col1\" >2</td>\n",
       "      <td id=\"T_32425_row1_col2\" class=\"data row1 col2\" >1</td>\n",
       "      <td id=\"T_32425_row1_col3\" class=\"data row1 col3\" >1</td>\n",
       "      <td id=\"T_32425_row1_col4\" class=\"data row1 col4\" >1</td>\n",
       "      <td id=\"T_32425_row1_col5\" class=\"data row1 col5\" >2002</td>\n",
       "      <td id=\"T_32425_row1_col6\" class=\"data row1 col6\" >1</td>\n",
       "      <td id=\"T_32425_row1_col7\" class=\"data row1 col7\" >1</td>\n",
       "      <td id=\"T_32425_row1_col8\" class=\"data row1 col8\" >1</td>\n",
       "      <td id=\"T_32425_row1_col9\" class=\"data row1 col9\" >1.000000</td>\n",
       "    </tr>\n",
       "    <tr>\n",
       "      <th id=\"T_32425_level0_row2\" class=\"row_heading level0 row2\" >2002-01-01 03:00:00</th>\n",
       "      <td id=\"T_32425_row2_col0\" class=\"data row2 col0\" >28357.000000</td>\n",
       "      <td id=\"T_32425_row2_col1\" class=\"data row2 col1\" >3</td>\n",
       "      <td id=\"T_32425_row2_col2\" class=\"data row2 col2\" >1</td>\n",
       "      <td id=\"T_32425_row2_col3\" class=\"data row2 col3\" >1</td>\n",
       "      <td id=\"T_32425_row2_col4\" class=\"data row2 col4\" >1</td>\n",
       "      <td id=\"T_32425_row2_col5\" class=\"data row2 col5\" >2002</td>\n",
       "      <td id=\"T_32425_row2_col6\" class=\"data row2 col6\" >1</td>\n",
       "      <td id=\"T_32425_row2_col7\" class=\"data row2 col7\" >1</td>\n",
       "      <td id=\"T_32425_row2_col8\" class=\"data row2 col8\" >1</td>\n",
       "      <td id=\"T_32425_row2_col9\" class=\"data row2 col9\" >1.000000</td>\n",
       "    </tr>\n",
       "    <tr>\n",
       "      <th id=\"T_32425_level0_row3\" class=\"row_heading level0 row3\" >2002-01-01 04:00:00</th>\n",
       "      <td id=\"T_32425_row3_col0\" class=\"data row3 col0\" >27899.000000</td>\n",
       "      <td id=\"T_32425_row3_col1\" class=\"data row3 col1\" >4</td>\n",
       "      <td id=\"T_32425_row3_col2\" class=\"data row3 col2\" >1</td>\n",
       "      <td id=\"T_32425_row3_col3\" class=\"data row3 col3\" >1</td>\n",
       "      <td id=\"T_32425_row3_col4\" class=\"data row3 col4\" >1</td>\n",
       "      <td id=\"T_32425_row3_col5\" class=\"data row3 col5\" >2002</td>\n",
       "      <td id=\"T_32425_row3_col6\" class=\"data row3 col6\" >1</td>\n",
       "      <td id=\"T_32425_row3_col7\" class=\"data row3 col7\" >1</td>\n",
       "      <td id=\"T_32425_row3_col8\" class=\"data row3 col8\" >1</td>\n",
       "      <td id=\"T_32425_row3_col9\" class=\"data row3 col9\" >1.000000</td>\n",
       "    </tr>\n",
       "    <tr>\n",
       "      <th id=\"T_32425_level0_row4\" class=\"row_heading level0 row4\" >2002-01-01 05:00:00</th>\n",
       "      <td id=\"T_32425_row4_col0\" class=\"data row4 col0\" >28057.000000</td>\n",
       "      <td id=\"T_32425_row4_col1\" class=\"data row4 col1\" >5</td>\n",
       "      <td id=\"T_32425_row4_col2\" class=\"data row4 col2\" >1</td>\n",
       "      <td id=\"T_32425_row4_col3\" class=\"data row4 col3\" >1</td>\n",
       "      <td id=\"T_32425_row4_col4\" class=\"data row4 col4\" >1</td>\n",
       "      <td id=\"T_32425_row4_col5\" class=\"data row4 col5\" >2002</td>\n",
       "      <td id=\"T_32425_row4_col6\" class=\"data row4 col6\" >1</td>\n",
       "      <td id=\"T_32425_row4_col7\" class=\"data row4 col7\" >1</td>\n",
       "      <td id=\"T_32425_row4_col8\" class=\"data row4 col8\" >1</td>\n",
       "      <td id=\"T_32425_row4_col9\" class=\"data row4 col9\" >1.000000</td>\n",
       "    </tr>\n",
       "    <tr>\n",
       "      <th id=\"T_32425_level0_row5\" class=\"row_heading level0 row5\" >2002-01-01 06:00:00</th>\n",
       "      <td id=\"T_32425_row5_col0\" class=\"data row5 col0\" >28654.000000</td>\n",
       "      <td id=\"T_32425_row5_col1\" class=\"data row5 col1\" >6</td>\n",
       "      <td id=\"T_32425_row5_col2\" class=\"data row5 col2\" >1</td>\n",
       "      <td id=\"T_32425_row5_col3\" class=\"data row5 col3\" >1</td>\n",
       "      <td id=\"T_32425_row5_col4\" class=\"data row5 col4\" >1</td>\n",
       "      <td id=\"T_32425_row5_col5\" class=\"data row5 col5\" >2002</td>\n",
       "      <td id=\"T_32425_row5_col6\" class=\"data row5 col6\" >1</td>\n",
       "      <td id=\"T_32425_row5_col7\" class=\"data row5 col7\" >1</td>\n",
       "      <td id=\"T_32425_row5_col8\" class=\"data row5 col8\" >1</td>\n",
       "      <td id=\"T_32425_row5_col9\" class=\"data row5 col9\" >1.000000</td>\n",
       "    </tr>\n",
       "    <tr>\n",
       "      <th id=\"T_32425_level0_row6\" class=\"row_heading level0 row6\" >2002-01-01 07:00:00</th>\n",
       "      <td id=\"T_32425_row6_col0\" class=\"data row6 col0\" >29308.000000</td>\n",
       "      <td id=\"T_32425_row6_col1\" class=\"data row6 col1\" >7</td>\n",
       "      <td id=\"T_32425_row6_col2\" class=\"data row6 col2\" >1</td>\n",
       "      <td id=\"T_32425_row6_col3\" class=\"data row6 col3\" >1</td>\n",
       "      <td id=\"T_32425_row6_col4\" class=\"data row6 col4\" >1</td>\n",
       "      <td id=\"T_32425_row6_col5\" class=\"data row6 col5\" >2002</td>\n",
       "      <td id=\"T_32425_row6_col6\" class=\"data row6 col6\" >1</td>\n",
       "      <td id=\"T_32425_row6_col7\" class=\"data row6 col7\" >1</td>\n",
       "      <td id=\"T_32425_row6_col8\" class=\"data row6 col8\" >1</td>\n",
       "      <td id=\"T_32425_row6_col9\" class=\"data row6 col9\" >1.000000</td>\n",
       "    </tr>\n",
       "    <tr>\n",
       "      <th id=\"T_32425_level0_row7\" class=\"row_heading level0 row7\" >2002-01-01 08:00:00</th>\n",
       "      <td id=\"T_32425_row7_col0\" class=\"data row7 col0\" >29595.000000</td>\n",
       "      <td id=\"T_32425_row7_col1\" class=\"data row7 col1\" >8</td>\n",
       "      <td id=\"T_32425_row7_col2\" class=\"data row7 col2\" >1</td>\n",
       "      <td id=\"T_32425_row7_col3\" class=\"data row7 col3\" >1</td>\n",
       "      <td id=\"T_32425_row7_col4\" class=\"data row7 col4\" >1</td>\n",
       "      <td id=\"T_32425_row7_col5\" class=\"data row7 col5\" >2002</td>\n",
       "      <td id=\"T_32425_row7_col6\" class=\"data row7 col6\" >1</td>\n",
       "      <td id=\"T_32425_row7_col7\" class=\"data row7 col7\" >1</td>\n",
       "      <td id=\"T_32425_row7_col8\" class=\"data row7 col8\" >1</td>\n",
       "      <td id=\"T_32425_row7_col9\" class=\"data row7 col9\" >1.000000</td>\n",
       "    </tr>\n",
       "    <tr>\n",
       "      <th id=\"T_32425_level0_row8\" class=\"row_heading level0 row8\" >2002-01-01 09:00:00</th>\n",
       "      <td id=\"T_32425_row8_col0\" class=\"data row8 col0\" >29943.000000</td>\n",
       "      <td id=\"T_32425_row8_col1\" class=\"data row8 col1\" >9</td>\n",
       "      <td id=\"T_32425_row8_col2\" class=\"data row8 col2\" >1</td>\n",
       "      <td id=\"T_32425_row8_col3\" class=\"data row8 col3\" >1</td>\n",
       "      <td id=\"T_32425_row8_col4\" class=\"data row8 col4\" >1</td>\n",
       "      <td id=\"T_32425_row8_col5\" class=\"data row8 col5\" >2002</td>\n",
       "      <td id=\"T_32425_row8_col6\" class=\"data row8 col6\" >1</td>\n",
       "      <td id=\"T_32425_row8_col7\" class=\"data row8 col7\" >1</td>\n",
       "      <td id=\"T_32425_row8_col8\" class=\"data row8 col8\" >1</td>\n",
       "      <td id=\"T_32425_row8_col9\" class=\"data row8 col9\" >1.000000</td>\n",
       "    </tr>\n",
       "    <tr>\n",
       "      <th id=\"T_32425_level0_row9\" class=\"row_heading level0 row9\" >2002-01-01 10:00:00</th>\n",
       "      <td id=\"T_32425_row9_col0\" class=\"data row9 col0\" >30692.000000</td>\n",
       "      <td id=\"T_32425_row9_col1\" class=\"data row9 col1\" >10</td>\n",
       "      <td id=\"T_32425_row9_col2\" class=\"data row9 col2\" >1</td>\n",
       "      <td id=\"T_32425_row9_col3\" class=\"data row9 col3\" >1</td>\n",
       "      <td id=\"T_32425_row9_col4\" class=\"data row9 col4\" >1</td>\n",
       "      <td id=\"T_32425_row9_col5\" class=\"data row9 col5\" >2002</td>\n",
       "      <td id=\"T_32425_row9_col6\" class=\"data row9 col6\" >1</td>\n",
       "      <td id=\"T_32425_row9_col7\" class=\"data row9 col7\" >1</td>\n",
       "      <td id=\"T_32425_row9_col8\" class=\"data row9 col8\" >1</td>\n",
       "      <td id=\"T_32425_row9_col9\" class=\"data row9 col9\" >1.000000</td>\n",
       "    </tr>\n",
       "  </tbody>\n",
       "</table>\n"
      ],
      "text/plain": [
       "<pandas.io.formats.style.Styler at 0x7f4e00a800d0>"
      ]
     },
     "metadata": {},
     "output_type": "display_data"
    },
    {
     "name": "stdout",
     "output_type": "stream",
     "text": [
      "\n",
      "\n",
      "___________________________________________________________________\n",
      "TAIL_______________________________________________________________\n",
      " \n"
     ]
    },
    {
     "data": {
      "text/html": [
       "<style type=\"text/css\">\n",
       "#T_bf23c_ th:not(.index_name) {\n",
       "  background-color: #92b9ba;\n",
       "  color: white;\n",
       "}\n",
       "</style>\n",
       "<table id=\"T_bf23c_\">\n",
       "  <thead>\n",
       "    <tr>\n",
       "      <th class=\"blank level0\" >&nbsp;</th>\n",
       "      <th class=\"col_heading level0 col0\" >PJME_MW</th>\n",
       "      <th class=\"col_heading level0 col1\" >hour</th>\n",
       "      <th class=\"col_heading level0 col2\" >dayofweek</th>\n",
       "      <th class=\"col_heading level0 col3\" >quarter</th>\n",
       "      <th class=\"col_heading level0 col4\" >month</th>\n",
       "      <th class=\"col_heading level0 col5\" >year</th>\n",
       "      <th class=\"col_heading level0 col6\" >dayofyear</th>\n",
       "      <th class=\"col_heading level0 col7\" >dayofmonth</th>\n",
       "      <th class=\"col_heading level0 col8\" >weekofyear</th>\n",
       "      <th class=\"col_heading level0 col9\" >Holiday</th>\n",
       "    </tr>\n",
       "    <tr>\n",
       "      <th class=\"index_name level0\" >Datetime</th>\n",
       "      <th class=\"blank col0\" >&nbsp;</th>\n",
       "      <th class=\"blank col1\" >&nbsp;</th>\n",
       "      <th class=\"blank col2\" >&nbsp;</th>\n",
       "      <th class=\"blank col3\" >&nbsp;</th>\n",
       "      <th class=\"blank col4\" >&nbsp;</th>\n",
       "      <th class=\"blank col5\" >&nbsp;</th>\n",
       "      <th class=\"blank col6\" >&nbsp;</th>\n",
       "      <th class=\"blank col7\" >&nbsp;</th>\n",
       "      <th class=\"blank col8\" >&nbsp;</th>\n",
       "      <th class=\"blank col9\" >&nbsp;</th>\n",
       "    </tr>\n",
       "  </thead>\n",
       "  <tbody>\n",
       "    <tr>\n",
       "      <th id=\"T_bf23c_level0_row0\" class=\"row_heading level0 row0\" >2018-08-02 15:00:00</th>\n",
       "      <td id=\"T_bf23c_row0_col0\" class=\"data row0 col0\" >47154.000000</td>\n",
       "      <td id=\"T_bf23c_row0_col1\" class=\"data row0 col1\" >15</td>\n",
       "      <td id=\"T_bf23c_row0_col2\" class=\"data row0 col2\" >3</td>\n",
       "      <td id=\"T_bf23c_row0_col3\" class=\"data row0 col3\" >3</td>\n",
       "      <td id=\"T_bf23c_row0_col4\" class=\"data row0 col4\" >8</td>\n",
       "      <td id=\"T_bf23c_row0_col5\" class=\"data row0 col5\" >2018</td>\n",
       "      <td id=\"T_bf23c_row0_col6\" class=\"data row0 col6\" >214</td>\n",
       "      <td id=\"T_bf23c_row0_col7\" class=\"data row0 col7\" >2</td>\n",
       "      <td id=\"T_bf23c_row0_col8\" class=\"data row0 col8\" >31</td>\n",
       "      <td id=\"T_bf23c_row0_col9\" class=\"data row0 col9\" >0.000000</td>\n",
       "    </tr>\n",
       "    <tr>\n",
       "      <th id=\"T_bf23c_level0_row1\" class=\"row_heading level0 row1\" >2018-08-02 16:00:00</th>\n",
       "      <td id=\"T_bf23c_row1_col0\" class=\"data row1 col0\" >46989.000000</td>\n",
       "      <td id=\"T_bf23c_row1_col1\" class=\"data row1 col1\" >16</td>\n",
       "      <td id=\"T_bf23c_row1_col2\" class=\"data row1 col2\" >3</td>\n",
       "      <td id=\"T_bf23c_row1_col3\" class=\"data row1 col3\" >3</td>\n",
       "      <td id=\"T_bf23c_row1_col4\" class=\"data row1 col4\" >8</td>\n",
       "      <td id=\"T_bf23c_row1_col5\" class=\"data row1 col5\" >2018</td>\n",
       "      <td id=\"T_bf23c_row1_col6\" class=\"data row1 col6\" >214</td>\n",
       "      <td id=\"T_bf23c_row1_col7\" class=\"data row1 col7\" >2</td>\n",
       "      <td id=\"T_bf23c_row1_col8\" class=\"data row1 col8\" >31</td>\n",
       "      <td id=\"T_bf23c_row1_col9\" class=\"data row1 col9\" >0.000000</td>\n",
       "    </tr>\n",
       "    <tr>\n",
       "      <th id=\"T_bf23c_level0_row2\" class=\"row_heading level0 row2\" >2018-08-02 17:00:00</th>\n",
       "      <td id=\"T_bf23c_row2_col0\" class=\"data row2 col0\" >46816.000000</td>\n",
       "      <td id=\"T_bf23c_row2_col1\" class=\"data row2 col1\" >17</td>\n",
       "      <td id=\"T_bf23c_row2_col2\" class=\"data row2 col2\" >3</td>\n",
       "      <td id=\"T_bf23c_row2_col3\" class=\"data row2 col3\" >3</td>\n",
       "      <td id=\"T_bf23c_row2_col4\" class=\"data row2 col4\" >8</td>\n",
       "      <td id=\"T_bf23c_row2_col5\" class=\"data row2 col5\" >2018</td>\n",
       "      <td id=\"T_bf23c_row2_col6\" class=\"data row2 col6\" >214</td>\n",
       "      <td id=\"T_bf23c_row2_col7\" class=\"data row2 col7\" >2</td>\n",
       "      <td id=\"T_bf23c_row2_col8\" class=\"data row2 col8\" >31</td>\n",
       "      <td id=\"T_bf23c_row2_col9\" class=\"data row2 col9\" >0.000000</td>\n",
       "    </tr>\n",
       "    <tr>\n",
       "      <th id=\"T_bf23c_level0_row3\" class=\"row_heading level0 row3\" >2018-08-02 18:00:00</th>\n",
       "      <td id=\"T_bf23c_row3_col0\" class=\"data row3 col0\" >46760.000000</td>\n",
       "      <td id=\"T_bf23c_row3_col1\" class=\"data row3 col1\" >18</td>\n",
       "      <td id=\"T_bf23c_row3_col2\" class=\"data row3 col2\" >3</td>\n",
       "      <td id=\"T_bf23c_row3_col3\" class=\"data row3 col3\" >3</td>\n",
       "      <td id=\"T_bf23c_row3_col4\" class=\"data row3 col4\" >8</td>\n",
       "      <td id=\"T_bf23c_row3_col5\" class=\"data row3 col5\" >2018</td>\n",
       "      <td id=\"T_bf23c_row3_col6\" class=\"data row3 col6\" >214</td>\n",
       "      <td id=\"T_bf23c_row3_col7\" class=\"data row3 col7\" >2</td>\n",
       "      <td id=\"T_bf23c_row3_col8\" class=\"data row3 col8\" >31</td>\n",
       "      <td id=\"T_bf23c_row3_col9\" class=\"data row3 col9\" >0.000000</td>\n",
       "    </tr>\n",
       "    <tr>\n",
       "      <th id=\"T_bf23c_level0_row4\" class=\"row_heading level0 row4\" >2018-08-02 19:00:00</th>\n",
       "      <td id=\"T_bf23c_row4_col0\" class=\"data row4 col0\" >45641.000000</td>\n",
       "      <td id=\"T_bf23c_row4_col1\" class=\"data row4 col1\" >19</td>\n",
       "      <td id=\"T_bf23c_row4_col2\" class=\"data row4 col2\" >3</td>\n",
       "      <td id=\"T_bf23c_row4_col3\" class=\"data row4 col3\" >3</td>\n",
       "      <td id=\"T_bf23c_row4_col4\" class=\"data row4 col4\" >8</td>\n",
       "      <td id=\"T_bf23c_row4_col5\" class=\"data row4 col5\" >2018</td>\n",
       "      <td id=\"T_bf23c_row4_col6\" class=\"data row4 col6\" >214</td>\n",
       "      <td id=\"T_bf23c_row4_col7\" class=\"data row4 col7\" >2</td>\n",
       "      <td id=\"T_bf23c_row4_col8\" class=\"data row4 col8\" >31</td>\n",
       "      <td id=\"T_bf23c_row4_col9\" class=\"data row4 col9\" >0.000000</td>\n",
       "    </tr>\n",
       "    <tr>\n",
       "      <th id=\"T_bf23c_level0_row5\" class=\"row_heading level0 row5\" >2018-08-02 20:00:00</th>\n",
       "      <td id=\"T_bf23c_row5_col0\" class=\"data row5 col0\" >44057.000000</td>\n",
       "      <td id=\"T_bf23c_row5_col1\" class=\"data row5 col1\" >20</td>\n",
       "      <td id=\"T_bf23c_row5_col2\" class=\"data row5 col2\" >3</td>\n",
       "      <td id=\"T_bf23c_row5_col3\" class=\"data row5 col3\" >3</td>\n",
       "      <td id=\"T_bf23c_row5_col4\" class=\"data row5 col4\" >8</td>\n",
       "      <td id=\"T_bf23c_row5_col5\" class=\"data row5 col5\" >2018</td>\n",
       "      <td id=\"T_bf23c_row5_col6\" class=\"data row5 col6\" >214</td>\n",
       "      <td id=\"T_bf23c_row5_col7\" class=\"data row5 col7\" >2</td>\n",
       "      <td id=\"T_bf23c_row5_col8\" class=\"data row5 col8\" >31</td>\n",
       "      <td id=\"T_bf23c_row5_col9\" class=\"data row5 col9\" >0.000000</td>\n",
       "    </tr>\n",
       "    <tr>\n",
       "      <th id=\"T_bf23c_level0_row6\" class=\"row_heading level0 row6\" >2018-08-02 21:00:00</th>\n",
       "      <td id=\"T_bf23c_row6_col0\" class=\"data row6 col0\" >43256.000000</td>\n",
       "      <td id=\"T_bf23c_row6_col1\" class=\"data row6 col1\" >21</td>\n",
       "      <td id=\"T_bf23c_row6_col2\" class=\"data row6 col2\" >3</td>\n",
       "      <td id=\"T_bf23c_row6_col3\" class=\"data row6 col3\" >3</td>\n",
       "      <td id=\"T_bf23c_row6_col4\" class=\"data row6 col4\" >8</td>\n",
       "      <td id=\"T_bf23c_row6_col5\" class=\"data row6 col5\" >2018</td>\n",
       "      <td id=\"T_bf23c_row6_col6\" class=\"data row6 col6\" >214</td>\n",
       "      <td id=\"T_bf23c_row6_col7\" class=\"data row6 col7\" >2</td>\n",
       "      <td id=\"T_bf23c_row6_col8\" class=\"data row6 col8\" >31</td>\n",
       "      <td id=\"T_bf23c_row6_col9\" class=\"data row6 col9\" >0.000000</td>\n",
       "    </tr>\n",
       "    <tr>\n",
       "      <th id=\"T_bf23c_level0_row7\" class=\"row_heading level0 row7\" >2018-08-02 22:00:00</th>\n",
       "      <td id=\"T_bf23c_row7_col0\" class=\"data row7 col0\" >41552.000000</td>\n",
       "      <td id=\"T_bf23c_row7_col1\" class=\"data row7 col1\" >22</td>\n",
       "      <td id=\"T_bf23c_row7_col2\" class=\"data row7 col2\" >3</td>\n",
       "      <td id=\"T_bf23c_row7_col3\" class=\"data row7 col3\" >3</td>\n",
       "      <td id=\"T_bf23c_row7_col4\" class=\"data row7 col4\" >8</td>\n",
       "      <td id=\"T_bf23c_row7_col5\" class=\"data row7 col5\" >2018</td>\n",
       "      <td id=\"T_bf23c_row7_col6\" class=\"data row7 col6\" >214</td>\n",
       "      <td id=\"T_bf23c_row7_col7\" class=\"data row7 col7\" >2</td>\n",
       "      <td id=\"T_bf23c_row7_col8\" class=\"data row7 col8\" >31</td>\n",
       "      <td id=\"T_bf23c_row7_col9\" class=\"data row7 col9\" >0.000000</td>\n",
       "    </tr>\n",
       "    <tr>\n",
       "      <th id=\"T_bf23c_level0_row8\" class=\"row_heading level0 row8\" >2018-08-02 23:00:00</th>\n",
       "      <td id=\"T_bf23c_row8_col0\" class=\"data row8 col0\" >38500.000000</td>\n",
       "      <td id=\"T_bf23c_row8_col1\" class=\"data row8 col1\" >23</td>\n",
       "      <td id=\"T_bf23c_row8_col2\" class=\"data row8 col2\" >3</td>\n",
       "      <td id=\"T_bf23c_row8_col3\" class=\"data row8 col3\" >3</td>\n",
       "      <td id=\"T_bf23c_row8_col4\" class=\"data row8 col4\" >8</td>\n",
       "      <td id=\"T_bf23c_row8_col5\" class=\"data row8 col5\" >2018</td>\n",
       "      <td id=\"T_bf23c_row8_col6\" class=\"data row8 col6\" >214</td>\n",
       "      <td id=\"T_bf23c_row8_col7\" class=\"data row8 col7\" >2</td>\n",
       "      <td id=\"T_bf23c_row8_col8\" class=\"data row8 col8\" >31</td>\n",
       "      <td id=\"T_bf23c_row8_col9\" class=\"data row8 col9\" >0.000000</td>\n",
       "    </tr>\n",
       "    <tr>\n",
       "      <th id=\"T_bf23c_level0_row9\" class=\"row_heading level0 row9\" >2018-08-03 00:00:00</th>\n",
       "      <td id=\"T_bf23c_row9_col0\" class=\"data row9 col0\" >35486.000000</td>\n",
       "      <td id=\"T_bf23c_row9_col1\" class=\"data row9 col1\" >0</td>\n",
       "      <td id=\"T_bf23c_row9_col2\" class=\"data row9 col2\" >4</td>\n",
       "      <td id=\"T_bf23c_row9_col3\" class=\"data row9 col3\" >3</td>\n",
       "      <td id=\"T_bf23c_row9_col4\" class=\"data row9 col4\" >8</td>\n",
       "      <td id=\"T_bf23c_row9_col5\" class=\"data row9 col5\" >2018</td>\n",
       "      <td id=\"T_bf23c_row9_col6\" class=\"data row9 col6\" >215</td>\n",
       "      <td id=\"T_bf23c_row9_col7\" class=\"data row9 col7\" >3</td>\n",
       "      <td id=\"T_bf23c_row9_col8\" class=\"data row9 col8\" >31</td>\n",
       "      <td id=\"T_bf23c_row9_col9\" class=\"data row9 col9\" >0.000000</td>\n",
       "    </tr>\n",
       "  </tbody>\n",
       "</table>\n"
      ],
      "text/plain": [
       "<pandas.io.formats.style.Styler at 0x7f4e01568c50>"
      ]
     },
     "metadata": {},
     "output_type": "display_data"
    },
    {
     "name": "stdout",
     "output_type": "stream",
     "text": [
      "\n",
      "\n",
      "___________________________________________________________________\n",
      "QUANTILES__________________________________________________________\n",
      " \n"
     ]
    },
    {
     "data": {
      "text/html": [
       "<style type=\"text/css\">\n",
       "#T_20851_ th:not(.index_name) {\n",
       "  background-color: #92b9ba;\n",
       "  color: white;\n",
       "}\n",
       "</style>\n",
       "<table id=\"T_20851_\">\n",
       "  <thead>\n",
       "    <tr>\n",
       "      <th class=\"blank level0\" >&nbsp;</th>\n",
       "      <th class=\"col_heading level0 col0\" >0.0</th>\n",
       "      <th class=\"col_heading level0 col1\" >0.05</th>\n",
       "      <th class=\"col_heading level0 col2\" >0.5</th>\n",
       "      <th class=\"col_heading level0 col3\" >0.95</th>\n",
       "      <th class=\"col_heading level0 col4\" >0.99</th>\n",
       "      <th class=\"col_heading level0 col5\" >1.0</th>\n",
       "    </tr>\n",
       "  </thead>\n",
       "  <tbody>\n",
       "    <tr>\n",
       "      <th id=\"T_20851_level0_row0\" class=\"row_heading level0 row0\" >PJME_MW</th>\n",
       "      <td id=\"T_20851_row0_col0\" class=\"data row0 col0\" >19100.000000</td>\n",
       "      <td id=\"T_20851_row0_col1\" class=\"data row0 col1\" >22622.000000</td>\n",
       "      <td id=\"T_20851_row0_col2\" class=\"data row0 col2\" >31420.000000</td>\n",
       "      <td id=\"T_20851_row0_col3\" class=\"data row0 col3\" >44088.250000</td>\n",
       "      <td id=\"T_20851_row0_col4\" class=\"data row0 col4\" >51011.300000</td>\n",
       "      <td id=\"T_20851_row0_col5\" class=\"data row0 col5\" >60100.000000</td>\n",
       "    </tr>\n",
       "    <tr>\n",
       "      <th id=\"T_20851_level0_row1\" class=\"row_heading level0 row1\" >hour</th>\n",
       "      <td id=\"T_20851_row1_col0\" class=\"data row1 col0\" >0.000000</td>\n",
       "      <td id=\"T_20851_row1_col1\" class=\"data row1 col1\" >1.000000</td>\n",
       "      <td id=\"T_20851_row1_col2\" class=\"data row1 col2\" >11.000000</td>\n",
       "      <td id=\"T_20851_row1_col3\" class=\"data row1 col3\" >22.000000</td>\n",
       "      <td id=\"T_20851_row1_col4\" class=\"data row1 col4\" >23.000000</td>\n",
       "      <td id=\"T_20851_row1_col5\" class=\"data row1 col5\" >23.000000</td>\n",
       "    </tr>\n",
       "    <tr>\n",
       "      <th id=\"T_20851_level0_row2\" class=\"row_heading level0 row2\" >dayofweek</th>\n",
       "      <td id=\"T_20851_row2_col0\" class=\"data row2 col0\" >0.000000</td>\n",
       "      <td id=\"T_20851_row2_col1\" class=\"data row2 col1\" >0.000000</td>\n",
       "      <td id=\"T_20851_row2_col2\" class=\"data row2 col2\" >3.000000</td>\n",
       "      <td id=\"T_20851_row2_col3\" class=\"data row2 col3\" >6.000000</td>\n",
       "      <td id=\"T_20851_row2_col4\" class=\"data row2 col4\" >6.000000</td>\n",
       "      <td id=\"T_20851_row2_col5\" class=\"data row2 col5\" >6.000000</td>\n",
       "    </tr>\n",
       "    <tr>\n",
       "      <th id=\"T_20851_level0_row3\" class=\"row_heading level0 row3\" >quarter</th>\n",
       "      <td id=\"T_20851_row3_col0\" class=\"data row3 col0\" >1.000000</td>\n",
       "      <td id=\"T_20851_row3_col1\" class=\"data row3 col1\" >1.000000</td>\n",
       "      <td id=\"T_20851_row3_col2\" class=\"data row3 col2\" >2.000000</td>\n",
       "      <td id=\"T_20851_row3_col3\" class=\"data row3 col3\" >4.000000</td>\n",
       "      <td id=\"T_20851_row3_col4\" class=\"data row3 col4\" >4.000000</td>\n",
       "      <td id=\"T_20851_row3_col5\" class=\"data row3 col5\" >4.000000</td>\n",
       "    </tr>\n",
       "    <tr>\n",
       "      <th id=\"T_20851_level0_row4\" class=\"row_heading level0 row4\" >month</th>\n",
       "      <td id=\"T_20851_row4_col0\" class=\"data row4 col0\" >1.000000</td>\n",
       "      <td id=\"T_20851_row4_col1\" class=\"data row4 col1\" >1.000000</td>\n",
       "      <td id=\"T_20851_row4_col2\" class=\"data row4 col2\" >6.000000</td>\n",
       "      <td id=\"T_20851_row4_col3\" class=\"data row4 col3\" >12.000000</td>\n",
       "      <td id=\"T_20851_row4_col4\" class=\"data row4 col4\" >12.000000</td>\n",
       "      <td id=\"T_20851_row4_col5\" class=\"data row4 col5\" >12.000000</td>\n",
       "    </tr>\n",
       "    <tr>\n",
       "      <th id=\"T_20851_level0_row5\" class=\"row_heading level0 row5\" >year</th>\n",
       "      <td id=\"T_20851_row5_col0\" class=\"data row5 col0\" >2002.000000</td>\n",
       "      <td id=\"T_20851_row5_col1\" class=\"data row5 col1\" >2002.000000</td>\n",
       "      <td id=\"T_20851_row5_col2\" class=\"data row5 col2\" >2010.000000</td>\n",
       "      <td id=\"T_20851_row5_col3\" class=\"data row5 col3\" >2017.000000</td>\n",
       "      <td id=\"T_20851_row5_col4\" class=\"data row5 col4\" >2018.000000</td>\n",
       "      <td id=\"T_20851_row5_col5\" class=\"data row5 col5\" >2018.000000</td>\n",
       "    </tr>\n",
       "    <tr>\n",
       "      <th id=\"T_20851_level0_row6\" class=\"row_heading level0 row6\" >dayofyear</th>\n",
       "      <td id=\"T_20851_row6_col0\" class=\"data row6 col0\" >1.000000</td>\n",
       "      <td id=\"T_20851_row6_col1\" class=\"data row6 col1\" >18.000000</td>\n",
       "      <td id=\"T_20851_row6_col2\" class=\"data row6 col2\" >179.000000</td>\n",
       "      <td id=\"T_20851_row6_col3\" class=\"data row6 col3\" >347.000000</td>\n",
       "      <td id=\"T_20851_row6_col4\" class=\"data row6 col4\" >362.000000</td>\n",
       "      <td id=\"T_20851_row6_col5\" class=\"data row6 col5\" >366.000000</td>\n",
       "    </tr>\n",
       "    <tr>\n",
       "      <th id=\"T_20851_level0_row7\" class=\"row_heading level0 row7\" >dayofmonth</th>\n",
       "      <td id=\"T_20851_row7_col0\" class=\"data row7 col0\" >1.000000</td>\n",
       "      <td id=\"T_20851_row7_col1\" class=\"data row7 col1\" >2.000000</td>\n",
       "      <td id=\"T_20851_row7_col2\" class=\"data row7 col2\" >16.000000</td>\n",
       "      <td id=\"T_20851_row7_col3\" class=\"data row7 col3\" >29.000000</td>\n",
       "      <td id=\"T_20851_row7_col4\" class=\"data row7 col4\" >31.000000</td>\n",
       "      <td id=\"T_20851_row7_col5\" class=\"data row7 col5\" >31.000000</td>\n",
       "    </tr>\n",
       "    <tr>\n",
       "      <th id=\"T_20851_level0_row8\" class=\"row_heading level0 row8\" >weekofyear</th>\n",
       "      <td id=\"T_20851_row8_col0\" class=\"data row8 col0\" >1</td>\n",
       "      <td id=\"T_20851_row8_col1\" class=\"data row8 col1\" >3</td>\n",
       "      <td id=\"T_20851_row8_col2\" class=\"data row8 col2\" >26</td>\n",
       "      <td id=\"T_20851_row8_col3\" class=\"data row8 col3\" >50</td>\n",
       "      <td id=\"T_20851_row8_col4\" class=\"data row8 col4\" >52</td>\n",
       "      <td id=\"T_20851_row8_col5\" class=\"data row8 col5\" >53</td>\n",
       "    </tr>\n",
       "    <tr>\n",
       "      <th id=\"T_20851_level0_row9\" class=\"row_heading level0 row9\" >Holiday</th>\n",
       "      <td id=\"T_20851_row9_col0\" class=\"data row9 col0\" >0.000000</td>\n",
       "      <td id=\"T_20851_row9_col1\" class=\"data row9 col1\" >0.000000</td>\n",
       "      <td id=\"T_20851_row9_col2\" class=\"data row9 col2\" >0.000000</td>\n",
       "      <td id=\"T_20851_row9_col3\" class=\"data row9 col3\" >0.000000</td>\n",
       "      <td id=\"T_20851_row9_col4\" class=\"data row9 col4\" >1.000000</td>\n",
       "      <td id=\"T_20851_row9_col5\" class=\"data row9 col5\" >1.000000</td>\n",
       "    </tr>\n",
       "  </tbody>\n",
       "</table>\n"
      ],
      "text/plain": [
       "<pandas.io.formats.style.Styler at 0x7f4dcacaa050>"
      ]
     },
     "metadata": {},
     "output_type": "display_data"
    },
    {
     "name": "stdout",
     "output_type": "stream",
     "text": [
      "\n",
      "\n"
     ]
    }
   ],
   "source": [
    "check_df(df)"
   ]
  },
  {
   "cell_type": "markdown",
   "id": "081da1e7",
   "metadata": {
    "papermill": {
     "duration": 0.028703,
     "end_time": "2023-01-03T02:33:17.693366",
     "exception": false,
     "start_time": "2023-01-03T02:33:17.664663",
     "status": "completed"
    },
    "tags": []
   },
   "source": [
    "# 6- Visualize our Feature / Target Relationship"
   ]
  },
  {
   "cell_type": "code",
   "execution_count": 57,
   "id": "e5ed177e",
   "metadata": {
    "execution": {
     "iopub.execute_input": "2023-01-03T02:33:17.751867Z",
     "iopub.status.busy": "2023-01-03T02:33:17.751361Z",
     "iopub.status.idle": "2023-01-03T02:33:18.426252Z",
     "shell.execute_reply": "2023-01-03T02:33:18.424604Z"
    },
    "papermill": {
     "duration": 0.707132,
     "end_time": "2023-01-03T02:33:18.429670",
     "exception": false,
     "start_time": "2023-01-03T02:33:17.722538",
     "status": "completed"
    },
    "tags": []
   },
   "outputs": [
    {
     "data": {
      "image/png": "[encoded data removed]",
      "text/plain": [
       "<Figure size 1080x576 with 1 Axes>"
      ]
     },
     "metadata": {},
     "output_type": "display_data"
    }
   ],
   "source": [
    "sns.set(style=\"darkgrid\")\n",
    "fig, ax = plt.subplots(figsize=(15, 8))\n",
    "sns.boxplot(data=df, x='hour', y='PJME_MW', color=\"#92b9ba\")\n",
    "plt.show()"
   ]
  },
  {
   "cell_type": "code",
   "execution_count": 58,
   "id": "7a346683",
   "metadata": {
    "execution": {
     "iopub.execute_input": "2023-01-03T02:33:18.492092Z",
     "iopub.status.busy": "2023-01-03T02:33:18.491524Z",
     "iopub.status.idle": "2023-01-03T02:33:18.902127Z",
     "shell.execute_reply": "2023-01-03T02:33:18.901041Z"
    },
    "papermill": {
     "duration": 0.445102,
     "end_time": "2023-01-03T02:33:18.904749",
     "exception": false,
     "start_time": "2023-01-03T02:33:18.459647",
     "status": "completed"
    },
    "tags": []
   },
   "outputs": [
    {
     "data": {
      "image/png": "[encoded data removed]",
      "text/plain": [
       "<Figure size 1080x576 with 1 Axes>"
      ]
     },
     "metadata": {},
     "output_type": "display_data"
    }
   ],
   "source": [
    "sns.set(style=\"darkgrid\")\n",
    "fig, ax = plt.subplots(figsize=(15, 8))\n",
    "sns.boxplot(data=df, x='month', y='PJME_MW',color=\"#92b9ba\")\n",
    "plt.show()"
   ]
  },
  {
   "cell_type": "markdown",
   "id": "263edc0f",
   "metadata": {
    "papermill": {
     "duration": 0.028254,
     "end_time": "2023-01-03T02:33:18.962940",
     "exception": false,
     "start_time": "2023-01-03T02:33:18.934686",
     "status": "completed"
    },
    "tags": []
   },
   "source": [
    "# Create our Model"
   ]
  },
  {
   "cell_type": "code",
   "execution_count": 59,
   "id": "ffc00c0b",
   "metadata": {
    "execution": {
     "iopub.execute_input": "2023-01-03T02:33:19.026897Z",
     "iopub.status.busy": "2023-01-03T02:33:19.026038Z",
     "iopub.status.idle": "2023-01-03T02:33:19.060066Z",
     "shell.execute_reply": "2023-01-03T02:33:19.058788Z"
    },
    "papermill": {
     "duration": 0.070184,
     "end_time": "2023-01-03T02:33:19.063514",
     "exception": false,
     "start_time": "2023-01-03T02:33:18.993330",
     "status": "completed"
    },
    "tags": []
   },
   "outputs": [],
   "source": [
    "train = df.loc[df.index < '01-01-2015']\n",
    "test = df.loc[df.index >= '01-01-2015']\n",
    "\n",
    "FEATURES = ['dayofyear', 'hour', 'dayofweek', 'quarter', 'month', 'year',\"dayofmonth\",\"weekofyear\",\"Holiday\"]\n",
    "TARGET = 'PJME_MW'\n",
    "\n",
    "X_train = train[FEATURES]\n",
    "y_train = train[TARGET]\n",
    "\n",
    "X_test = test[FEATURES]\n",
    "y_test = test[TARGET]"
   ]
  },
  {
   "cell_type": "code",
   "execution_count": 60,
   "id": "06aad8b1",
   "metadata": {
    "execution": {
     "iopub.execute_input": "2023-01-03T02:33:19.125822Z",
     "iopub.status.busy": "2023-01-03T02:33:19.125299Z",
     "iopub.status.idle": "2023-01-03T02:33:21.420550Z",
     "shell.execute_reply": "2023-01-03T02:33:21.418947Z"
    },
    "papermill": {
     "duration": 2.330268,
     "end_time": "2023-01-03T02:33:21.423580",
     "exception": false,
     "start_time": "2023-01-03T02:33:19.093312",
     "status": "completed"
    },
    "tags": []
   },
   "outputs": [
    {
     "data": {
      "image/png": "[encoded data removed]",
      "text/plain": [
       "<Figure size 1080x360 with 1 Axes>"
      ]
     },
     "metadata": {},
     "output_type": "display_data"
    }
   ],
   "source": [
    "fig, ax = plt.subplots(figsize=(15, 5))\n",
    "train.PJME_MW.plot(ax=ax, color=\"#92b9ba\", label='Training Set', title='Data Train/Test Split')\n",
    "test.PJME_MW.plot(ax=ax, color=\"#ffc0cb\", label='Test Set')\n",
    "ax.axvline('01-01-2015', color='black', ls='--')\n",
    "ax.legend(['Training Set', 'Test Set'])\n",
    "plt.show()"
   ]
  },
  {
   "cell_type": "code",
   "execution_count": null,
   "id": "52dc1cf8",
   "metadata": {
    "papermill": {
     "duration": 0.029261,
     "end_time": "2023-01-03T02:33:21.484568",
     "exception": false,
     "start_time": "2023-01-03T02:33:21.455307",
     "status": "completed"
    },
    "tags": []
   },
   "outputs": [],
   "source": []
  }
 ],
 "metadata": {
  "kernelspec": {
   "display_name": "Python 3",
   "language": "python",
   "name": "python3"
  },
  "language_info": {
   "codemirror_mode": {
    "name": "ipython",
    "version": 3
   },
   "file_extension": ".py",
   "mimetype": "text/x-python",
   "name": "python",
   "nbconvert_exporter": "python",
   "pygments_lexer": "ipython3",
   "version": "3.7.12"
  },
  "papermill": {
   "default_parameters": {},
   "duration": 51.165835,
   "end_time": "2023-01-03T02:33:22.741117",
   "environment_variables": {},
   "exception": null,
   "input_path": "__notebook__.ipynb",
   "output_path": "__notebook__.ipynb",
   "parameters": {},
   "start_time": "2023-01-03T02:32:31.575282",
   "version": "2.3.4"
  }
 },
 "nbformat": 4,
 "nbformat_minor": 5
}
